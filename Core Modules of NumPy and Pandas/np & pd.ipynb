{
 "cells": [
  {
   "cell_type": "markdown",
   "metadata": {},
   "source": [
    "# The core modules NumPy, Pandas, and Matplotlib"
   ]
  },
  {
   "cell_type": "markdown",
   "metadata": {},
   "source": [
    "Hello World! This is a Markdown chunk!"
   ]
  },
  {
   "cell_type": "code",
   "execution_count": 1,
   "metadata": {
    "scrolled": true,
    "ExecuteTime": {
     "end_time": "2023-08-01T22:36:21.068083200Z",
     "start_time": "2023-08-01T22:36:19.015262800Z"
    }
   },
   "outputs": [
    {
     "name": "stdout",
     "output_type": "stream",
     "text": [
      "Hello World! This is Code Chunk!\n"
     ]
    }
   ],
   "source": [
    "print('Hello World! This is Code Chunk!')"
   ]
  },
  {
   "cell_type": "code",
   "execution_count": 2,
   "metadata": {
    "ExecuteTime": {
     "end_time": "2023-08-01T22:36:27.050964100Z",
     "start_time": "2023-08-01T22:36:19.037250700Z"
    }
   },
   "outputs": [],
   "source": [
    "import numpy as np"
   ]
  },
  {
   "cell_type": "code",
   "execution_count": 3,
   "metadata": {
    "ExecuteTime": {
     "end_time": "2023-08-01T22:36:27.300822Z",
     "start_time": "2023-08-01T22:36:26.746141300Z"
    }
   },
   "outputs": [
    {
     "data": {
      "text/plain": "23.083333333333332"
     },
     "execution_count": 3,
     "metadata": {},
     "output_type": "execute_result"
    }
   ],
   "source": [
    "lst_nums = [2,5,7,11,13,17,23,31,37,41,43,47]\n",
    "np.mean(lst_nums)"
   ]
  },
  {
   "cell_type": "code",
   "execution_count": 4,
   "metadata": {
    "ExecuteTime": {
     "end_time": "2023-08-01T22:36:27.345796100Z",
     "start_time": "2023-08-01T22:36:26.750138600Z"
    }
   },
   "outputs": [
    {
     "data": {
      "text/plain": "23.083333333333332"
     },
     "execution_count": 4,
     "metadata": {},
     "output_type": "execute_result"
    }
   ],
   "source": [
    "lst_nums = [2,5,7,11,13,17,23,31,37,41,43,47]\n",
    "ary_nums = np.array(lst_nums)\n",
    "ary_nums.mean()"
   ]
  },
  {
   "cell_type": "code",
   "execution_count": 5,
   "metadata": {
    "ExecuteTime": {
     "end_time": "2023-08-01T22:36:27.346796200Z",
     "start_time": "2023-08-01T22:36:26.750138600Z"
    }
   },
   "outputs": [
    {
     "data": {
      "text/plain": "list"
     },
     "execution_count": 5,
     "metadata": {},
     "output_type": "execute_result"
    }
   ],
   "source": [
    "type(lst_nums)"
   ]
  },
  {
   "cell_type": "code",
   "execution_count": 6,
   "metadata": {
    "scrolled": true,
    "ExecuteTime": {
     "end_time": "2023-08-01T22:36:27.351792200Z",
     "start_time": "2023-08-01T22:36:26.751137800Z"
    }
   },
   "outputs": [
    {
     "data": {
      "text/plain": "numpy.ndarray"
     },
     "execution_count": 6,
     "metadata": {},
     "output_type": "execute_result"
    }
   ],
   "source": [
    "type(ary_nums)"
   ]
  },
  {
   "cell_type": "code",
   "execution_count": 7,
   "metadata": {
    "ExecuteTime": {
     "end_time": "2023-08-01T22:36:27.354790600Z",
     "start_time": "2023-08-01T22:36:26.752137300Z"
    }
   },
   "outputs": [
    {
     "data": {
      "text/plain": "array([ 0,  1,  2,  3,  4,  5,  6,  7,  8,  9, 10, 11, 12, 13, 14])"
     },
     "execution_count": 7,
     "metadata": {},
     "output_type": "execute_result"
    }
   ],
   "source": [
    "np.arange(15)"
   ]
  },
  {
   "cell_type": "code",
   "execution_count": 8,
   "metadata": {
    "ExecuteTime": {
     "end_time": "2023-08-01T22:36:27.355789800Z",
     "start_time": "2023-08-01T22:36:26.753136400Z"
    }
   },
   "outputs": [
    {
     "data": {
      "text/plain": "array([ 5,  6,  7,  8,  9, 10, 11, 12, 13, 14])"
     },
     "execution_count": 8,
     "metadata": {},
     "output_type": "execute_result"
    }
   ],
   "source": [
    "np.arange(5,15)"
   ]
  },
  {
   "cell_type": "code",
   "execution_count": 9,
   "metadata": {
    "ExecuteTime": {
     "end_time": "2023-08-01T22:36:27.356790300Z",
     "start_time": "2023-08-01T22:36:26.754136600Z"
    }
   },
   "outputs": [
    {
     "data": {
      "text/plain": "array([-7.1, -6.1, -5.1, -4.1, -3.1, -2.1, -1.1, -0.1,  0.9,  1.9,  2.9,\n        3.9,  4.9,  5.9,  6.9])"
     },
     "execution_count": 9,
     "metadata": {},
     "output_type": "execute_result"
    }
   ],
   "source": [
    "np.arange(-7.1,7)"
   ]
  },
  {
   "cell_type": "code",
   "execution_count": 10,
   "metadata": {
    "ExecuteTime": {
     "end_time": "2023-08-01T22:36:27.357789600Z",
     "start_time": "2023-08-01T22:36:26.754136600Z"
    }
   },
   "outputs": [
    {
     "data": {
      "text/plain": "array([[0., 0., 0., 0., 0.],\n       [0., 0., 0., 0., 0.],\n       [0., 0., 0., 0., 0.],\n       [0., 0., 0., 0., 0.]])"
     },
     "execution_count": 10,
     "metadata": {},
     "output_type": "execute_result"
    }
   ],
   "source": [
    "np.zeros([4,5])"
   ]
  },
  {
   "cell_type": "code",
   "execution_count": 11,
   "metadata": {
    "scrolled": true,
    "ExecuteTime": {
     "end_time": "2023-08-01T22:36:27.359789300Z",
     "start_time": "2023-08-01T22:36:26.755135700Z"
    }
   },
   "outputs": [
    {
     "data": {
      "text/plain": "array([1., 1., 1., 1., 1., 1., 1.])"
     },
     "execution_count": 11,
     "metadata": {},
     "output_type": "execute_result"
    }
   ],
   "source": [
    "np.ones(7)"
   ]
  },
  {
   "cell_type": "markdown",
   "metadata": {},
   "source": [
    "Example #1\n",
    "\n",
    "The following is the grade data of ten students. Create a code using NumPy that calcuate and report their grade average. \n",
    "\n",
    "    Names = ['Jevon', 'Dawn', 'Kayleigh', 'Jadene', 'Kennedy', 'Kaydee', 'Ansh', 'Flynn', 'Kier', 'Clarence']\n",
    "    Math_grades = [80, 50, 60, 70, 60, 100, 70, 70, 60, 70]\n",
    "    Science_grades = [90, 80, 50, 50, 60, 50, 90, 70, 80, 80]\n",
    "    History_grades = [60, 90, 50, 90, 100, 100, 100, 100, 90, 70]"
   ]
  },
  {
   "cell_type": "code",
   "execution_count": 12,
   "metadata": {
    "ExecuteTime": {
     "end_time": "2023-08-01T22:36:27.360787Z",
     "start_time": "2023-08-01T22:36:26.756134900Z"
    }
   },
   "outputs": [],
   "source": [
    "Names = ['Jevon', 'Dawn', 'Kayleigh', 'Jadene', 'Kennedy', 'Kaydee', \n",
    "         'Ansh', 'Flynn', 'Kier', 'Clarence']\n",
    "Math_grades = [80, 50, 60, 70, 60, 100, 70, 70, 60, 70]\n",
    "Science_grades = [90, 80, 50, 50, 60, 50, 90, 70, 80, 80]\n",
    "History_grades = [60, 90, 50, 90, 100, 100, 100, 100, 90, 70]"
   ]
  },
  {
   "cell_type": "code",
   "execution_count": 13,
   "metadata": {
    "ExecuteTime": {
     "end_time": "2023-08-01T22:36:27.361787400Z",
     "start_time": "2023-08-01T22:36:26.757134300Z"
    }
   },
   "outputs": [
    {
     "name": "stdout",
     "output_type": "stream",
     "text": [
      "[0. 0. 0. 0. 0. 0. 0. 0. 0. 0.]\n",
      "[76.66666667 73.33333333 53.33333333 70.         73.33333333 83.33333333\n",
      " 86.66666667 80.         76.66666667 73.33333333]\n"
     ]
    }
   ],
   "source": [
    "Average_grades = np.zeros(10)\n",
    "print(Average_grades)\n",
    "\n",
    "for i, name in enumerate(Names):\n",
    "    Average_grades[i] = np.mean([Math_grades[i],Science_grades[i],\n",
    "                                 History_grades[i]])\n",
    "\n",
    "print(Average_grades)"
   ]
  },
  {
   "cell_type": "code",
   "execution_count": 14,
   "metadata": {
    "scrolled": true,
    "ExecuteTime": {
     "end_time": "2023-08-01T22:36:27.362786500Z",
     "start_time": "2023-08-01T22:36:26.758133600Z"
    }
   },
   "outputs": [
    {
     "name": "stdout",
     "output_type": "stream",
     "text": [
      "Average for Jevon : 76.66666666666667\n",
      "Average for Dawn : 73.33333333333333\n",
      "Average for Kayleigh : 53.333333333333336\n",
      "Average for Jadene : 70.0\n",
      "Average for Kennedy : 73.33333333333333\n",
      "Average for Kaydee : 83.33333333333333\n",
      "Average for Ansh : 86.66666666666667\n",
      "Average for Flynn : 80.0\n",
      "Average for Kier : 76.66666666666667\n",
      "Average for Clarence : 73.33333333333333\n"
     ]
    }
   ],
   "source": [
    "# better-looking report\n",
    "\n",
    "for i, name in enumerate(Names):\n",
    "    print(\"Average for {} : {}\".format(name,Average_grades[i]))"
   ]
  },
  {
   "cell_type": "code",
   "execution_count": 15,
   "metadata": {
    "ExecuteTime": {
     "end_time": "2023-08-01T22:36:27.364785800Z",
     "start_time": "2023-08-01T22:36:26.758133600Z"
    }
   },
   "outputs": [
    {
     "data": {
      "text/plain": "array([0.  , 0.05, 0.1 , 0.15, 0.2 , 0.25, 0.3 , 0.35, 0.4 , 0.45, 0.5 ,\n       0.55, 0.6 , 0.65, 0.7 , 0.75, 0.8 , 0.85, 0.9 , 0.95, 1.  ])"
     },
     "execution_count": 15,
     "metadata": {},
     "output_type": "execute_result"
    }
   ],
   "source": [
    "np.linspace(0,1,21)"
   ]
  },
  {
   "cell_type": "code",
   "execution_count": 16,
   "metadata": {
    "scrolled": true,
    "ExecuteTime": {
     "end_time": "2023-08-01T22:36:27.365785800Z",
     "start_time": "2023-08-01T22:36:26.759132400Z"
    }
   },
   "outputs": [
    {
     "data": {
      "text/plain": "array([  10.,   20.,   30.,   40.,   50.,   60.,   70.,   80.,   90.,\n        100.,  110.,  120.,  130.,  140.,  150.,  160.,  170.,  180.,\n        190.,  200.,  210.,  220.,  230.,  240.,  250.,  260.,  270.,\n        280.,  290.,  300.,  310.,  320.,  330.,  340.,  350.,  360.,\n        370.,  380.,  390.,  400.,  410.,  420.,  430.,  440.,  450.,\n        460.,  470.,  480.,  490.,  500.,  510.,  520.,  530.,  540.,\n        550.,  560.,  570.,  580.,  590.,  600.,  610.,  620.,  630.,\n        640.,  650.,  660.,  670.,  680.,  690.,  700.,  710.,  720.,\n        730.,  740.,  750.,  760.,  770.,  780.,  790.,  800.,  810.,\n        820.,  830.,  840.,  850.,  860.,  870.,  880.,  890.,  900.,\n        910.,  920.,  930.,  940.,  950.,  960.,  970.,  980.,  990.,\n       1000.])"
     },
     "execution_count": 16,
     "metadata": {},
     "output_type": "execute_result"
    }
   ],
   "source": [
    "np.linspace(10,1000,100)"
   ]
  },
  {
   "cell_type": "markdown",
   "metadata": {},
   "source": [
    "Example 2\n",
    "\n",
    "We are interested in finding the value(s) that holds the following mathematical statement.\n",
    "\n",
    "    x^2-5x+6=0\n",
    "\n",
    "And imagine that we don’t know that the statement can be simplified easily to find either -1 or +1 will hold the statement.  \n",
    "    \n",
    "    x^2-5x+6=(x-2)(x-3)\n",
    "\n",
    "so we would like to use NumPy to try out any values between -100 and 100 and see what the answer is.\n"
   ]
  },
  {
   "cell_type": "code",
   "execution_count": 17,
   "metadata": {
    "ExecuteTime": {
     "end_time": "2023-08-01T22:36:27.367783800Z",
     "start_time": "2023-08-01T22:36:26.760133100Z"
    }
   },
   "outputs": [
    {
     "name": "stdout",
     "output_type": "stream",
     "text": [
      "Just found a possible answer: 2.0\n",
      "Just found a possible answer: 3.0\n"
     ]
    }
   ],
   "source": [
    "Candidates = np.linspace(-1000,1000,2001)\n",
    "#print(Candidates)\n",
    "\n",
    "for candidate in Candidates:\n",
    "    if(candidate**2 - 5*candidate +6 ==0):\n",
    "        print(\"Just found a possible answer: {}\".format(candidate))"
   ]
  },
  {
   "cell_type": "markdown",
   "metadata": {},
   "source": [
    "# Adult Dataset \n",
    "\n",
    "\"Census Income\" dataset.\n",
    "\n",
    "Number of Instances: 48842\n",
    "Number of Attributes: 14\n",
    "Date Donated: 1996-05-01\n",
    "Missing Values?: Yes\n",
    "\n",
    "### Attributes:\n",
    "\n",
    "Number of Attributes: 6 continuous, 8 nominal attributes\n",
    "\n",
    "- age: continuous.\n",
    "- workclass: Private, Self-emp-not-inc, Self-emp-inc, Federal-gov, Local-gov, State-gov, Without-pay, Never-worked.\n",
    "- fnlwgt: continuous.\n",
    "- education: Bachelors, Some-college, 11th, HS-grad, Prof-school, Assoc-acdm, Assoc-voc, 9th, 7th-8th, 12th, Masters, 1st-4th, 10th, Doctorate, 5th-6th, Preschool.\n",
    "- education-num: continuous.\n",
    "- marital-status: Married-civ-spouse, Divorced, Never-married, Separated, Widowed, Married-spouse-absent, Married-AF-spouse.\n",
    "- occupation: Tech-support, Craft-repair, Other-service, Sales, Exec-managerial, Prof-specialty, Handlers-cleaners, Machine-op-inspct, Adm-clerical, Farming-fishing, Transport-moving, Priv-house-serv, Protective-serv, Armed-Forces.\n",
    "- relationship: Wife, Own-child, Husband, Not-in-family, Other-relative, Unmarried.\n",
    "- race: White, Asian-Pac-Islander, Amer-Indian-Eskimo, Other, Black.\n",
    "- sex: Female, Male.\n",
    "- capital-gain: continuous.\n",
    "- capital-loss: continuous.\n",
    "- hours-per-week: continuous.\n",
    "- native-country: United-States, Cambodia, England, Puerto-Rico, Canada, Germany, Outlying-US(Guam-USVI-etc), India, Japan, Greece, South, China, Cuba, Iran, Honduras, Philippines, Italy, Poland, Jamaica, Vietnam, Mexico, Portugal, Ireland, France, Dominican-Republic, Laos, Ecuador, Taiwan, Haiti, Columbia, Hungary, Guatemala, Nicaragua, Scotland, Thailand, Yugoslavia, El-Salvador, Trinadad&Tobago, Peru, Hong, Holand-Netherlands.\n",
    "- class: >50K, <=50K\n",
    "\n"
   ]
  },
  {
   "cell_type": "code",
   "execution_count": 18,
   "metadata": {
    "scrolled": false,
    "ExecuteTime": {
     "end_time": "2023-08-01T22:36:27.370781900Z",
     "start_time": "2023-08-01T22:36:26.762132200Z"
    }
   },
   "outputs": [
    {
     "data": {
      "text/plain": "   age         workclass  fnlwgt  education  education-num  \\\n0   39         State-gov   77516  Bachelors             13   \n1   50  Self-emp-not-inc   83311  Bachelors             13   \n2   38           Private  215646    HS-grad              9   \n3   53           Private  234721       11th              7   \n4   28           Private  338409  Bachelors             13   \n\n       marital-status         occupation   relationship   race     sex  \\\n0       Never-married       Adm-clerical  Not-in-family  White    Male   \n1  Married-civ-spouse    Exec-managerial        Husband  White    Male   \n2            Divorced  Handlers-cleaners  Not-in-family  White    Male   \n3  Married-civ-spouse  Handlers-cleaners        Husband  Black    Male   \n4  Married-civ-spouse     Prof-specialty           Wife  Black  Female   \n\n   capitalGain  capitalLoss  hoursPerWeek  nativeCountry income  \n0         2174            0            40  United-States  <=50K  \n1            0            0            13  United-States  <=50K  \n2            0            0            40  United-States  <=50K  \n3            0            0            40  United-States  <=50K  \n4            0            0            40           Cuba  <=50K  ",
      "text/html": "<div>\n<style scoped>\n    .dataframe tbody tr th:only-of-type {\n        vertical-align: middle;\n    }\n\n    .dataframe tbody tr th {\n        vertical-align: top;\n    }\n\n    .dataframe thead th {\n        text-align: right;\n    }\n</style>\n<table border=\"1\" class=\"dataframe\">\n  <thead>\n    <tr style=\"text-align: right;\">\n      <th></th>\n      <th>age</th>\n      <th>workclass</th>\n      <th>fnlwgt</th>\n      <th>education</th>\n      <th>education-num</th>\n      <th>marital-status</th>\n      <th>occupation</th>\n      <th>relationship</th>\n      <th>race</th>\n      <th>sex</th>\n      <th>capitalGain</th>\n      <th>capitalLoss</th>\n      <th>hoursPerWeek</th>\n      <th>nativeCountry</th>\n      <th>income</th>\n    </tr>\n  </thead>\n  <tbody>\n    <tr>\n      <th>0</th>\n      <td>39</td>\n      <td>State-gov</td>\n      <td>77516</td>\n      <td>Bachelors</td>\n      <td>13</td>\n      <td>Never-married</td>\n      <td>Adm-clerical</td>\n      <td>Not-in-family</td>\n      <td>White</td>\n      <td>Male</td>\n      <td>2174</td>\n      <td>0</td>\n      <td>40</td>\n      <td>United-States</td>\n      <td>&lt;=50K</td>\n    </tr>\n    <tr>\n      <th>1</th>\n      <td>50</td>\n      <td>Self-emp-not-inc</td>\n      <td>83311</td>\n      <td>Bachelors</td>\n      <td>13</td>\n      <td>Married-civ-spouse</td>\n      <td>Exec-managerial</td>\n      <td>Husband</td>\n      <td>White</td>\n      <td>Male</td>\n      <td>0</td>\n      <td>0</td>\n      <td>13</td>\n      <td>United-States</td>\n      <td>&lt;=50K</td>\n    </tr>\n    <tr>\n      <th>2</th>\n      <td>38</td>\n      <td>Private</td>\n      <td>215646</td>\n      <td>HS-grad</td>\n      <td>9</td>\n      <td>Divorced</td>\n      <td>Handlers-cleaners</td>\n      <td>Not-in-family</td>\n      <td>White</td>\n      <td>Male</td>\n      <td>0</td>\n      <td>0</td>\n      <td>40</td>\n      <td>United-States</td>\n      <td>&lt;=50K</td>\n    </tr>\n    <tr>\n      <th>3</th>\n      <td>53</td>\n      <td>Private</td>\n      <td>234721</td>\n      <td>11th</td>\n      <td>7</td>\n      <td>Married-civ-spouse</td>\n      <td>Handlers-cleaners</td>\n      <td>Husband</td>\n      <td>Black</td>\n      <td>Male</td>\n      <td>0</td>\n      <td>0</td>\n      <td>40</td>\n      <td>United-States</td>\n      <td>&lt;=50K</td>\n    </tr>\n    <tr>\n      <th>4</th>\n      <td>28</td>\n      <td>Private</td>\n      <td>338409</td>\n      <td>Bachelors</td>\n      <td>13</td>\n      <td>Married-civ-spouse</td>\n      <td>Prof-specialty</td>\n      <td>Wife</td>\n      <td>Black</td>\n      <td>Female</td>\n      <td>0</td>\n      <td>0</td>\n      <td>40</td>\n      <td>Cuba</td>\n      <td>&lt;=50K</td>\n    </tr>\n  </tbody>\n</table>\n</div>"
     },
     "execution_count": 18,
     "metadata": {},
     "output_type": "execute_result"
    }
   ],
   "source": [
    "import pandas as pd\n",
    "\n",
    "adult_df = pd.read_csv('adult.csv')\n",
    "adult_df.head()"
   ]
  },
  {
   "cell_type": "code",
   "execution_count": 19,
   "metadata": {
    "scrolled": true,
    "ExecuteTime": {
     "end_time": "2023-08-01T22:36:27.372781100Z",
     "start_time": "2023-08-01T22:36:26.763130300Z"
    }
   },
   "outputs": [
    {
     "data": {
      "text/plain": "pandas.core.series.Series"
     },
     "execution_count": 19,
     "metadata": {},
     "output_type": "execute_result"
    }
   ],
   "source": [
    "type(adult_df.age) "
   ]
  },
  {
   "cell_type": "code",
   "execution_count": 20,
   "metadata": {
    "ExecuteTime": {
     "end_time": "2023-08-01T22:36:27.373780500Z",
     "start_time": "2023-08-01T22:36:26.763130300Z"
    }
   },
   "outputs": [
    {
     "data": {
      "text/plain": "pandas.core.frame.DataFrame"
     },
     "execution_count": 20,
     "metadata": {},
     "output_type": "execute_result"
    }
   ],
   "source": [
    "type(adult_df)"
   ]
  },
  {
   "cell_type": "code",
   "execution_count": 21,
   "metadata": {
    "scrolled": true,
    "ExecuteTime": {
     "end_time": "2023-08-01T22:36:27.374779700Z",
     "start_time": "2023-08-01T22:36:26.764130200Z"
    }
   },
   "outputs": [
    {
     "data": {
      "text/plain": "Index(['age', 'workclass', 'fnlwgt', 'education', 'education-num',\n       'marital-status', 'occupation', 'relationship', 'race', 'sex',\n       'capitalGain', 'capitalLoss', 'hoursPerWeek', 'nativeCountry',\n       'income'],\n      dtype='object')"
     },
     "execution_count": 21,
     "metadata": {},
     "output_type": "execute_result"
    }
   ],
   "source": [
    "adult_df.loc[0].index"
   ]
  },
  {
   "cell_type": "code",
   "execution_count": 22,
   "metadata": {
    "ExecuteTime": {
     "end_time": "2023-08-01T22:36:27.380776600Z",
     "start_time": "2023-08-01T22:36:26.765129700Z"
    }
   },
   "outputs": [
    {
     "data": {
      "text/plain": "RangeIndex(start=0, stop=32561, step=1)"
     },
     "execution_count": 22,
     "metadata": {},
     "output_type": "execute_result"
    }
   ],
   "source": [
    "adult_df.age.index"
   ]
  },
  {
   "cell_type": "code",
   "execution_count": 23,
   "metadata": {
    "ExecuteTime": {
     "end_time": "2023-08-01T22:36:27.381775800Z",
     "start_time": "2023-08-01T22:36:26.766129100Z"
    }
   },
   "outputs": [],
   "source": [
    "adult_df.set_index(np.arange(10000,42561),inplace=True)"
   ]
  },
  {
   "cell_type": "code",
   "execution_count": 24,
   "metadata": {
    "scrolled": false,
    "ExecuteTime": {
     "end_time": "2023-08-01T22:36:27.385773700Z",
     "start_time": "2023-08-01T22:36:26.766129100Z"
    }
   },
   "outputs": [
    {
     "data": {
      "text/plain": "       age         workclass  fnlwgt   education  education-num  \\\n10000   39         State-gov   77516   Bachelors             13   \n10001   50  Self-emp-not-inc   83311   Bachelors             13   \n10002   38           Private  215646     HS-grad              9   \n10003   53           Private  234721        11th              7   \n10004   28           Private  338409   Bachelors             13   \n...    ...               ...     ...         ...            ...   \n42556   27           Private  257302  Assoc-acdm             12   \n42557   40           Private  154374     HS-grad              9   \n42558   58           Private  151910     HS-grad              9   \n42559   22           Private  201490     HS-grad              9   \n42560   52      Self-emp-inc  287927     HS-grad              9   \n\n           marital-status         occupation   relationship   race     sex  \\\n10000       Never-married       Adm-clerical  Not-in-family  White    Male   \n10001  Married-civ-spouse    Exec-managerial        Husband  White    Male   \n10002            Divorced  Handlers-cleaners  Not-in-family  White    Male   \n10003  Married-civ-spouse  Handlers-cleaners        Husband  Black    Male   \n10004  Married-civ-spouse     Prof-specialty           Wife  Black  Female   \n...                   ...                ...            ...    ...     ...   \n42556  Married-civ-spouse       Tech-support           Wife  White  Female   \n42557  Married-civ-spouse  Machine-op-inspct        Husband  White    Male   \n42558             Widowed       Adm-clerical      Unmarried  White  Female   \n42559       Never-married       Adm-clerical      Own-child  White    Male   \n42560  Married-civ-spouse    Exec-managerial           Wife  White  Female   \n\n       capitalGain  capitalLoss  hoursPerWeek  nativeCountry income  \n10000         2174            0            40  United-States  <=50K  \n10001            0            0            13  United-States  <=50K  \n10002            0            0            40  United-States  <=50K  \n10003            0            0            40  United-States  <=50K  \n10004            0            0            40           Cuba  <=50K  \n...            ...          ...           ...            ...    ...  \n42556            0            0            38  United-States  <=50K  \n42557            0            0            40  United-States   >50K  \n42558            0            0            40  United-States  <=50K  \n42559            0            0            20  United-States  <=50K  \n42560        15024            0            40  United-States   >50K  \n\n[32561 rows x 15 columns]",
      "text/html": "<div>\n<style scoped>\n    .dataframe tbody tr th:only-of-type {\n        vertical-align: middle;\n    }\n\n    .dataframe tbody tr th {\n        vertical-align: top;\n    }\n\n    .dataframe thead th {\n        text-align: right;\n    }\n</style>\n<table border=\"1\" class=\"dataframe\">\n  <thead>\n    <tr style=\"text-align: right;\">\n      <th></th>\n      <th>age</th>\n      <th>workclass</th>\n      <th>fnlwgt</th>\n      <th>education</th>\n      <th>education-num</th>\n      <th>marital-status</th>\n      <th>occupation</th>\n      <th>relationship</th>\n      <th>race</th>\n      <th>sex</th>\n      <th>capitalGain</th>\n      <th>capitalLoss</th>\n      <th>hoursPerWeek</th>\n      <th>nativeCountry</th>\n      <th>income</th>\n    </tr>\n  </thead>\n  <tbody>\n    <tr>\n      <th>10000</th>\n      <td>39</td>\n      <td>State-gov</td>\n      <td>77516</td>\n      <td>Bachelors</td>\n      <td>13</td>\n      <td>Never-married</td>\n      <td>Adm-clerical</td>\n      <td>Not-in-family</td>\n      <td>White</td>\n      <td>Male</td>\n      <td>2174</td>\n      <td>0</td>\n      <td>40</td>\n      <td>United-States</td>\n      <td>&lt;=50K</td>\n    </tr>\n    <tr>\n      <th>10001</th>\n      <td>50</td>\n      <td>Self-emp-not-inc</td>\n      <td>83311</td>\n      <td>Bachelors</td>\n      <td>13</td>\n      <td>Married-civ-spouse</td>\n      <td>Exec-managerial</td>\n      <td>Husband</td>\n      <td>White</td>\n      <td>Male</td>\n      <td>0</td>\n      <td>0</td>\n      <td>13</td>\n      <td>United-States</td>\n      <td>&lt;=50K</td>\n    </tr>\n    <tr>\n      <th>10002</th>\n      <td>38</td>\n      <td>Private</td>\n      <td>215646</td>\n      <td>HS-grad</td>\n      <td>9</td>\n      <td>Divorced</td>\n      <td>Handlers-cleaners</td>\n      <td>Not-in-family</td>\n      <td>White</td>\n      <td>Male</td>\n      <td>0</td>\n      <td>0</td>\n      <td>40</td>\n      <td>United-States</td>\n      <td>&lt;=50K</td>\n    </tr>\n    <tr>\n      <th>10003</th>\n      <td>53</td>\n      <td>Private</td>\n      <td>234721</td>\n      <td>11th</td>\n      <td>7</td>\n      <td>Married-civ-spouse</td>\n      <td>Handlers-cleaners</td>\n      <td>Husband</td>\n      <td>Black</td>\n      <td>Male</td>\n      <td>0</td>\n      <td>0</td>\n      <td>40</td>\n      <td>United-States</td>\n      <td>&lt;=50K</td>\n    </tr>\n    <tr>\n      <th>10004</th>\n      <td>28</td>\n      <td>Private</td>\n      <td>338409</td>\n      <td>Bachelors</td>\n      <td>13</td>\n      <td>Married-civ-spouse</td>\n      <td>Prof-specialty</td>\n      <td>Wife</td>\n      <td>Black</td>\n      <td>Female</td>\n      <td>0</td>\n      <td>0</td>\n      <td>40</td>\n      <td>Cuba</td>\n      <td>&lt;=50K</td>\n    </tr>\n    <tr>\n      <th>...</th>\n      <td>...</td>\n      <td>...</td>\n      <td>...</td>\n      <td>...</td>\n      <td>...</td>\n      <td>...</td>\n      <td>...</td>\n      <td>...</td>\n      <td>...</td>\n      <td>...</td>\n      <td>...</td>\n      <td>...</td>\n      <td>...</td>\n      <td>...</td>\n      <td>...</td>\n    </tr>\n    <tr>\n      <th>42556</th>\n      <td>27</td>\n      <td>Private</td>\n      <td>257302</td>\n      <td>Assoc-acdm</td>\n      <td>12</td>\n      <td>Married-civ-spouse</td>\n      <td>Tech-support</td>\n      <td>Wife</td>\n      <td>White</td>\n      <td>Female</td>\n      <td>0</td>\n      <td>0</td>\n      <td>38</td>\n      <td>United-States</td>\n      <td>&lt;=50K</td>\n    </tr>\n    <tr>\n      <th>42557</th>\n      <td>40</td>\n      <td>Private</td>\n      <td>154374</td>\n      <td>HS-grad</td>\n      <td>9</td>\n      <td>Married-civ-spouse</td>\n      <td>Machine-op-inspct</td>\n      <td>Husband</td>\n      <td>White</td>\n      <td>Male</td>\n      <td>0</td>\n      <td>0</td>\n      <td>40</td>\n      <td>United-States</td>\n      <td>&gt;50K</td>\n    </tr>\n    <tr>\n      <th>42558</th>\n      <td>58</td>\n      <td>Private</td>\n      <td>151910</td>\n      <td>HS-grad</td>\n      <td>9</td>\n      <td>Widowed</td>\n      <td>Adm-clerical</td>\n      <td>Unmarried</td>\n      <td>White</td>\n      <td>Female</td>\n      <td>0</td>\n      <td>0</td>\n      <td>40</td>\n      <td>United-States</td>\n      <td>&lt;=50K</td>\n    </tr>\n    <tr>\n      <th>42559</th>\n      <td>22</td>\n      <td>Private</td>\n      <td>201490</td>\n      <td>HS-grad</td>\n      <td>9</td>\n      <td>Never-married</td>\n      <td>Adm-clerical</td>\n      <td>Own-child</td>\n      <td>White</td>\n      <td>Male</td>\n      <td>0</td>\n      <td>0</td>\n      <td>20</td>\n      <td>United-States</td>\n      <td>&lt;=50K</td>\n    </tr>\n    <tr>\n      <th>42560</th>\n      <td>52</td>\n      <td>Self-emp-inc</td>\n      <td>287927</td>\n      <td>HS-grad</td>\n      <td>9</td>\n      <td>Married-civ-spouse</td>\n      <td>Exec-managerial</td>\n      <td>Wife</td>\n      <td>White</td>\n      <td>Female</td>\n      <td>15024</td>\n      <td>0</td>\n      <td>40</td>\n      <td>United-States</td>\n      <td>&gt;50K</td>\n    </tr>\n  </tbody>\n</table>\n<p>32561 rows × 15 columns</p>\n</div>"
     },
     "execution_count": 24,
     "metadata": {},
     "output_type": "execute_result"
    }
   ],
   "source": [
    "adult_df.set_index(np.arange(10000,42561))"
   ]
  },
  {
   "cell_type": "code",
   "execution_count": 26,
   "metadata": {
    "ExecuteTime": {
     "end_time": "2023-08-01T22:38:49.831620100Z",
     "start_time": "2023-08-01T22:38:49.630375200Z"
    }
   },
   "outputs": [
    {
     "data": {
      "text/plain": "'HS-grad'"
     },
     "execution_count": 26,
     "metadata": {},
     "output_type": "execute_result"
    }
   ],
   "source": [
    "adult_df.iloc[2].loc['education']"
   ]
  },
  {
   "cell_type": "code",
   "execution_count": 27,
   "metadata": {
    "ExecuteTime": {
     "end_time": "2023-08-01T22:38:51.825590700Z",
     "start_time": "2023-08-01T22:38:51.481272100Z"
    }
   },
   "outputs": [
    {
     "data": {
      "text/plain": "'HS-grad'"
     },
     "execution_count": 27,
     "metadata": {},
     "output_type": "execute_result"
    }
   ],
   "source": [
    "adult_df.education.loc[10002]"
   ]
  },
  {
   "cell_type": "code",
   "execution_count": 28,
   "metadata": {
    "ExecuteTime": {
     "end_time": "2023-08-01T22:38:58.555236600Z",
     "start_time": "2023-08-01T22:38:57.678559Z"
    }
   },
   "outputs": [
    {
     "data": {
      "text/plain": "'HS-grad'"
     },
     "execution_count": 28,
     "metadata": {},
     "output_type": "execute_result"
    }
   ],
   "source": [
    "adult_df['education'].iloc[2]"
   ]
  },
  {
   "cell_type": "code",
   "execution_count": 29,
   "metadata": {
    "ExecuteTime": {
     "end_time": "2023-08-01T22:38:59.699722500Z",
     "start_time": "2023-08-01T22:38:57.773873300Z"
    }
   },
   "outputs": [
    {
     "data": {
      "text/plain": "'HS-grad'"
     },
     "execution_count": 29,
     "metadata": {},
     "output_type": "execute_result"
    }
   ],
   "source": [
    "adult_df.at[10002,'education']"
   ]
  },
  {
   "cell_type": "code",
   "execution_count": 30,
   "metadata": {
    "ExecuteTime": {
     "end_time": "2023-08-01T22:38:59.703719900Z",
     "start_time": "2023-08-01T22:38:57.798551200Z"
    }
   },
   "outputs": [
    {
     "name": "stdout",
     "output_type": "stream",
     "text": [
      "HS-grad\n",
      "HS-grad\n",
      "HS-grad\n",
      "HS-grad\n"
     ]
    }
   ],
   "source": [
    "row_series = adult_df.loc[10002]\n",
    "print(row_series.loc['education'])\n",
    "print(row_series.iloc[3])\n",
    "print(row_series['education'])\n",
    "print(row_series.education)"
   ]
  },
  {
   "cell_type": "code",
   "execution_count": 31,
   "metadata": {
    "ExecuteTime": {
     "end_time": "2023-08-01T22:38:59.704719800Z",
     "start_time": "2023-08-01T22:38:57.808847200Z"
    }
   },
   "outputs": [
    {
     "name": "stdout",
     "output_type": "stream",
     "text": [
      "HS-grad\n",
      "HS-grad\n",
      "HS-grad\n"
     ]
    }
   ],
   "source": [
    "columns_series = adult_df.education\n",
    "print(columns_series.loc[10002])\n",
    "print(columns_series.iloc[2])\n",
    "print(columns_series[10002])\n",
    "# print(row_series.10002)  This will give syntax error!"
   ]
  },
  {
   "cell_type": "markdown",
   "metadata": {},
   "source": [
    "# Slicing"
   ]
  },
  {
   "cell_type": "code",
   "execution_count": 32,
   "metadata": {
    "ExecuteTime": {
     "end_time": "2023-08-01T22:38:59.982143100Z",
     "start_time": "2023-08-01T22:38:57.912863900Z"
    }
   },
   "outputs": [
    {
     "data": {
      "text/plain": "array([[ 2,  3,  5,  7],\n       [11, 13, 17, 19],\n       [23, 29, 31, 37],\n       [41, 43, 47, 49]])"
     },
     "execution_count": 32,
     "metadata": {},
     "output_type": "execute_result"
    }
   ],
   "source": [
    "my_array = np.array([[2,3,5,7],[11,13,17,19],\n",
    "                     [23,29,31,37,], [41,43,47,49]])\n",
    "my_array"
   ]
  },
  {
   "cell_type": "code",
   "execution_count": 33,
   "metadata": {
    "ExecuteTime": {
     "end_time": "2023-08-01T22:39:00.165038700Z",
     "start_time": "2023-08-01T22:38:58.302489Z"
    }
   },
   "outputs": [
    {
     "data": {
      "text/plain": "13"
     },
     "execution_count": 33,
     "metadata": {},
     "output_type": "execute_result"
    }
   ],
   "source": [
    "my_array[1,1]"
   ]
  },
  {
   "cell_type": "code",
   "execution_count": 34,
   "metadata": {
    "ExecuteTime": {
     "end_time": "2023-08-01T22:39:00.960586100Z",
     "start_time": "2023-08-01T22:38:58.734134100Z"
    }
   },
   "outputs": [
    {
     "data": {
      "text/plain": "array([11, 13, 17, 19])"
     },
     "execution_count": 34,
     "metadata": {},
     "output_type": "execute_result"
    }
   ],
   "source": [
    "my_array[1,:]"
   ]
  },
  {
   "cell_type": "code",
   "execution_count": 35,
   "metadata": {
    "ExecuteTime": {
     "end_time": "2023-08-01T22:39:01.308993800Z",
     "start_time": "2023-08-01T22:38:59.406471600Z"
    }
   },
   "outputs": [
    {
     "data": {
      "text/plain": "array([ 3, 13, 29, 43])"
     },
     "execution_count": 35,
     "metadata": {},
     "output_type": "execute_result"
    }
   ],
   "source": [
    "my_array[:,1]"
   ]
  },
  {
   "cell_type": "code",
   "execution_count": 36,
   "metadata": {
    "ExecuteTime": {
     "end_time": "2023-08-01T22:39:07.755320600Z",
     "start_time": "2023-08-01T22:38:59.484006300Z"
    }
   },
   "outputs": [
    {
     "data": {
      "text/plain": "array([[ 2,  3,  5,  7],\n       [11, 13, 17, 19],\n       [23, 29, 31, 37],\n       [41, 43, 47, 49]])"
     },
     "execution_count": 36,
     "metadata": {},
     "output_type": "execute_result"
    }
   ],
   "source": [
    "my_array"
   ]
  },
  {
   "cell_type": "code",
   "execution_count": 37,
   "metadata": {
    "ExecuteTime": {
     "end_time": "2023-08-01T22:39:08.494015600Z",
     "start_time": "2023-08-01T22:38:59.935586900Z"
    }
   },
   "outputs": [
    {
     "data": {
      "text/plain": "array([[11, 13, 17, 19],\n       [23, 29, 31, 37]])"
     },
     "execution_count": 37,
     "metadata": {},
     "output_type": "execute_result"
    }
   ],
   "source": [
    "my_array[1:3,:]"
   ]
  },
  {
   "cell_type": "code",
   "execution_count": 38,
   "metadata": {
    "scrolled": false,
    "ExecuteTime": {
     "end_time": "2023-08-01T22:39:25.298782Z",
     "start_time": "2023-08-01T22:39:00.393907100Z"
    }
   },
   "outputs": [
    {
     "data": {
      "text/plain": "array([[11, 13],\n       [23, 29]])"
     },
     "execution_count": 38,
     "metadata": {},
     "output_type": "execute_result"
    }
   ],
   "source": [
    "my_array[1:3,0:2]"
   ]
  },
  {
   "cell_type": "code",
   "execution_count": 39,
   "metadata": {
    "ExecuteTime": {
     "end_time": "2023-08-01T22:39:25.797496100Z",
     "start_time": "2023-08-01T22:39:00.736451700Z"
    }
   },
   "outputs": [
    {
     "data": {
      "text/plain": "array([[11, 17],\n       [23, 31]])"
     },
     "execution_count": 39,
     "metadata": {},
     "output_type": "execute_result"
    }
   ],
   "source": [
    "my_array[1:3,[0,2]]"
   ]
  },
  {
   "cell_type": "code",
   "execution_count": 40,
   "metadata": {
    "ExecuteTime": {
     "end_time": "2023-08-01T22:39:25.886445700Z",
     "start_time": "2023-08-01T22:39:01.084514600Z"
    }
   },
   "outputs": [
    {
     "data": {
      "text/plain": "        education  education-num      marital-status         occupation\n10000   Bachelors             13       Never-married       Adm-clerical\n10001   Bachelors             13  Married-civ-spouse    Exec-managerial\n10002     HS-grad              9            Divorced  Handlers-cleaners\n10003        11th              7  Married-civ-spouse  Handlers-cleaners\n10004   Bachelors             13  Married-civ-spouse     Prof-specialty\n...           ...            ...                 ...                ...\n42556  Assoc-acdm             12  Married-civ-spouse       Tech-support\n42557     HS-grad              9  Married-civ-spouse  Machine-op-inspct\n42558     HS-grad              9             Widowed       Adm-clerical\n42559     HS-grad              9       Never-married       Adm-clerical\n42560     HS-grad              9  Married-civ-spouse    Exec-managerial\n\n[32561 rows x 4 columns]",
      "text/html": "<div>\n<style scoped>\n    .dataframe tbody tr th:only-of-type {\n        vertical-align: middle;\n    }\n\n    .dataframe tbody tr th {\n        vertical-align: top;\n    }\n\n    .dataframe thead th {\n        text-align: right;\n    }\n</style>\n<table border=\"1\" class=\"dataframe\">\n  <thead>\n    <tr style=\"text-align: right;\">\n      <th></th>\n      <th>education</th>\n      <th>education-num</th>\n      <th>marital-status</th>\n      <th>occupation</th>\n    </tr>\n  </thead>\n  <tbody>\n    <tr>\n      <th>10000</th>\n      <td>Bachelors</td>\n      <td>13</td>\n      <td>Never-married</td>\n      <td>Adm-clerical</td>\n    </tr>\n    <tr>\n      <th>10001</th>\n      <td>Bachelors</td>\n      <td>13</td>\n      <td>Married-civ-spouse</td>\n      <td>Exec-managerial</td>\n    </tr>\n    <tr>\n      <th>10002</th>\n      <td>HS-grad</td>\n      <td>9</td>\n      <td>Divorced</td>\n      <td>Handlers-cleaners</td>\n    </tr>\n    <tr>\n      <th>10003</th>\n      <td>11th</td>\n      <td>7</td>\n      <td>Married-civ-spouse</td>\n      <td>Handlers-cleaners</td>\n    </tr>\n    <tr>\n      <th>10004</th>\n      <td>Bachelors</td>\n      <td>13</td>\n      <td>Married-civ-spouse</td>\n      <td>Prof-specialty</td>\n    </tr>\n    <tr>\n      <th>...</th>\n      <td>...</td>\n      <td>...</td>\n      <td>...</td>\n      <td>...</td>\n    </tr>\n    <tr>\n      <th>42556</th>\n      <td>Assoc-acdm</td>\n      <td>12</td>\n      <td>Married-civ-spouse</td>\n      <td>Tech-support</td>\n    </tr>\n    <tr>\n      <th>42557</th>\n      <td>HS-grad</td>\n      <td>9</td>\n      <td>Married-civ-spouse</td>\n      <td>Machine-op-inspct</td>\n    </tr>\n    <tr>\n      <th>42558</th>\n      <td>HS-grad</td>\n      <td>9</td>\n      <td>Widowed</td>\n      <td>Adm-clerical</td>\n    </tr>\n    <tr>\n      <th>42559</th>\n      <td>HS-grad</td>\n      <td>9</td>\n      <td>Never-married</td>\n      <td>Adm-clerical</td>\n    </tr>\n    <tr>\n      <th>42560</th>\n      <td>HS-grad</td>\n      <td>9</td>\n      <td>Married-civ-spouse</td>\n      <td>Exec-managerial</td>\n    </tr>\n  </tbody>\n</table>\n<p>32561 rows × 4 columns</p>\n</div>"
     },
     "execution_count": 40,
     "metadata": {},
     "output_type": "execute_result"
    }
   ],
   "source": [
    "adult_df.loc[:,'education':'occupation']"
   ]
  },
  {
   "cell_type": "code",
   "execution_count": 41,
   "metadata": {
    "ExecuteTime": {
     "end_time": "2023-08-01T22:39:30.130323200Z",
     "start_time": "2023-08-01T22:39:01.626813500Z"
    }
   },
   "outputs": [
    {
     "data": {
      "text/plain": "       index  age         workclass  fnlwgt     education  education-num  \\\n1      23248   68           Private  168794     Preschool              1   \n3618   19607   25           Private  251854          11th              7   \n7235   38845   31           Private  272856       HS-grad              9   \n10852  32759   56           Private  182273       HS-grad              9   \n14469  10419   34         State-gov  240283       HS-grad              9   \n18086  31532   25      Self-emp-inc   98756  Some-college             10   \n21703  17245   37       Federal-gov   40955  Some-college             10   \n25320  40595   43           Private  342567     Bachelors             13   \n28937  15200   43       Federal-gov  144778     Bachelors             13   \n32554  27308   55  Self-emp-not-inc   53566     Doctorate             16   \n\n              marital-status         occupation   relationship   race     sex  \\\n1              Never-married  Machine-op-inspct  Not-in-family  White    Male   \n3618           Never-married       Adm-clerical      Own-child  Black  Female   \n7235           Never-married       Craft-repair      Own-child  Black    Male   \n10852     Married-civ-spouse  Machine-op-inspct        Husband  White    Male   \n14469               Divorced   Transport-moving      Unmarried  White  Female   \n18086               Divorced       Adm-clerical      Own-child  White  Female   \n21703          Never-married      Other-service      Own-child  White    Male   \n25320  Married-spouse-absent       Adm-clerical      Unmarried  White  Female   \n28937          Never-married    Exec-managerial  Not-in-family  White    Male   \n32554               Divorced    Exec-managerial  Not-in-family  White  Female   \n\n       capitalGain  capitalLoss  hoursPerWeek  nativeCountry income  \n1                0            0            10  United-States  <=50K  \n3618             0            0            40  United-States  <=50K  \n7235             0            0            50        England  <=50K  \n10852            0            0            40  United-States  <=50K  \n14469            0            0            40  United-States  <=50K  \n18086            0            0            50  United-States  <=50K  \n21703            0            0            40          Japan  <=50K  \n25320            0            0            40  United-States  <=50K  \n28937            0            0            40  United-States   >50K  \n32554            0            0            30  United-States  <=50K  ",
      "text/html": "<div>\n<style scoped>\n    .dataframe tbody tr th:only-of-type {\n        vertical-align: middle;\n    }\n\n    .dataframe tbody tr th {\n        vertical-align: top;\n    }\n\n    .dataframe thead th {\n        text-align: right;\n    }\n</style>\n<table border=\"1\" class=\"dataframe\">\n  <thead>\n    <tr style=\"text-align: right;\">\n      <th></th>\n      <th>index</th>\n      <th>age</th>\n      <th>workclass</th>\n      <th>fnlwgt</th>\n      <th>education</th>\n      <th>education-num</th>\n      <th>marital-status</th>\n      <th>occupation</th>\n      <th>relationship</th>\n      <th>race</th>\n      <th>sex</th>\n      <th>capitalGain</th>\n      <th>capitalLoss</th>\n      <th>hoursPerWeek</th>\n      <th>nativeCountry</th>\n      <th>income</th>\n    </tr>\n  </thead>\n  <tbody>\n    <tr>\n      <th>1</th>\n      <td>23248</td>\n      <td>68</td>\n      <td>Private</td>\n      <td>168794</td>\n      <td>Preschool</td>\n      <td>1</td>\n      <td>Never-married</td>\n      <td>Machine-op-inspct</td>\n      <td>Not-in-family</td>\n      <td>White</td>\n      <td>Male</td>\n      <td>0</td>\n      <td>0</td>\n      <td>10</td>\n      <td>United-States</td>\n      <td>&lt;=50K</td>\n    </tr>\n    <tr>\n      <th>3618</th>\n      <td>19607</td>\n      <td>25</td>\n      <td>Private</td>\n      <td>251854</td>\n      <td>11th</td>\n      <td>7</td>\n      <td>Never-married</td>\n      <td>Adm-clerical</td>\n      <td>Own-child</td>\n      <td>Black</td>\n      <td>Female</td>\n      <td>0</td>\n      <td>0</td>\n      <td>40</td>\n      <td>United-States</td>\n      <td>&lt;=50K</td>\n    </tr>\n    <tr>\n      <th>7235</th>\n      <td>38845</td>\n      <td>31</td>\n      <td>Private</td>\n      <td>272856</td>\n      <td>HS-grad</td>\n      <td>9</td>\n      <td>Never-married</td>\n      <td>Craft-repair</td>\n      <td>Own-child</td>\n      <td>Black</td>\n      <td>Male</td>\n      <td>0</td>\n      <td>0</td>\n      <td>50</td>\n      <td>England</td>\n      <td>&lt;=50K</td>\n    </tr>\n    <tr>\n      <th>10852</th>\n      <td>32759</td>\n      <td>56</td>\n      <td>Private</td>\n      <td>182273</td>\n      <td>HS-grad</td>\n      <td>9</td>\n      <td>Married-civ-spouse</td>\n      <td>Machine-op-inspct</td>\n      <td>Husband</td>\n      <td>White</td>\n      <td>Male</td>\n      <td>0</td>\n      <td>0</td>\n      <td>40</td>\n      <td>United-States</td>\n      <td>&lt;=50K</td>\n    </tr>\n    <tr>\n      <th>14469</th>\n      <td>10419</td>\n      <td>34</td>\n      <td>State-gov</td>\n      <td>240283</td>\n      <td>HS-grad</td>\n      <td>9</td>\n      <td>Divorced</td>\n      <td>Transport-moving</td>\n      <td>Unmarried</td>\n      <td>White</td>\n      <td>Female</td>\n      <td>0</td>\n      <td>0</td>\n      <td>40</td>\n      <td>United-States</td>\n      <td>&lt;=50K</td>\n    </tr>\n    <tr>\n      <th>18086</th>\n      <td>31532</td>\n      <td>25</td>\n      <td>Self-emp-inc</td>\n      <td>98756</td>\n      <td>Some-college</td>\n      <td>10</td>\n      <td>Divorced</td>\n      <td>Adm-clerical</td>\n      <td>Own-child</td>\n      <td>White</td>\n      <td>Female</td>\n      <td>0</td>\n      <td>0</td>\n      <td>50</td>\n      <td>United-States</td>\n      <td>&lt;=50K</td>\n    </tr>\n    <tr>\n      <th>21703</th>\n      <td>17245</td>\n      <td>37</td>\n      <td>Federal-gov</td>\n      <td>40955</td>\n      <td>Some-college</td>\n      <td>10</td>\n      <td>Never-married</td>\n      <td>Other-service</td>\n      <td>Own-child</td>\n      <td>White</td>\n      <td>Male</td>\n      <td>0</td>\n      <td>0</td>\n      <td>40</td>\n      <td>Japan</td>\n      <td>&lt;=50K</td>\n    </tr>\n    <tr>\n      <th>25320</th>\n      <td>40595</td>\n      <td>43</td>\n      <td>Private</td>\n      <td>342567</td>\n      <td>Bachelors</td>\n      <td>13</td>\n      <td>Married-spouse-absent</td>\n      <td>Adm-clerical</td>\n      <td>Unmarried</td>\n      <td>White</td>\n      <td>Female</td>\n      <td>0</td>\n      <td>0</td>\n      <td>40</td>\n      <td>United-States</td>\n      <td>&lt;=50K</td>\n    </tr>\n    <tr>\n      <th>28937</th>\n      <td>15200</td>\n      <td>43</td>\n      <td>Federal-gov</td>\n      <td>144778</td>\n      <td>Bachelors</td>\n      <td>13</td>\n      <td>Never-married</td>\n      <td>Exec-managerial</td>\n      <td>Not-in-family</td>\n      <td>White</td>\n      <td>Male</td>\n      <td>0</td>\n      <td>0</td>\n      <td>40</td>\n      <td>United-States</td>\n      <td>&gt;50K</td>\n    </tr>\n    <tr>\n      <th>32554</th>\n      <td>27308</td>\n      <td>55</td>\n      <td>Self-emp-not-inc</td>\n      <td>53566</td>\n      <td>Doctorate</td>\n      <td>16</td>\n      <td>Divorced</td>\n      <td>Exec-managerial</td>\n      <td>Not-in-family</td>\n      <td>White</td>\n      <td>Female</td>\n      <td>0</td>\n      <td>0</td>\n      <td>30</td>\n      <td>United-States</td>\n      <td>&lt;=50K</td>\n    </tr>\n  </tbody>\n</table>\n</div>"
     },
     "execution_count": 41,
     "metadata": {},
     "output_type": "execute_result"
    }
   ],
   "source": [
    "adult_df.sort_values('education-num').reset_index().iloc[1:32561:3617]"
   ]
  },
  {
   "cell_type": "markdown",
   "metadata": {},
   "source": [
    "# Boolean Masking"
   ]
  },
  {
   "cell_type": "code",
   "execution_count": 42,
   "metadata": {
    "ExecuteTime": {
     "end_time": "2023-08-01T22:39:30.368187900Z",
     "start_time": "2023-08-01T22:39:07.325639Z"
    }
   },
   "outputs": [
    {
     "data": {
      "text/plain": "3        8\n7      128\n8      256\n9      512\n10    1024\ndtype: int64"
     },
     "execution_count": 42,
     "metadata": {},
     "output_type": "execute_result"
    }
   ],
   "source": [
    "twopowers_sr = pd.Series([1,2,4,8,16,32,64,128,256,512,1024])\n",
    "BM = [False,False,False,True,False,False,False,True,True,True,True]\n",
    "twopowers_sr[BM]"
   ]
  },
  {
   "cell_type": "code",
   "execution_count": 43,
   "metadata": {
    "ExecuteTime": {
     "end_time": "2023-08-01T22:39:30.846913400Z",
     "start_time": "2023-08-01T22:39:07.359132300Z"
    }
   },
   "outputs": [
    {
     "data": {
      "text/plain": "0     False\n1     False\n2     False\n3     False\n4     False\n5     False\n6     False\n7     False\n8     False\n9      True\n10     True\ndtype: bool"
     },
     "execution_count": 43,
     "metadata": {},
     "output_type": "execute_result"
    }
   ],
   "source": [
    "twopowers_sr >=500"
   ]
  },
  {
   "cell_type": "code",
   "execution_count": 44,
   "metadata": {
    "ExecuteTime": {
     "end_time": "2023-08-01T22:39:30.848913600Z",
     "start_time": "2023-08-01T22:39:07.396516100Z"
    }
   },
   "outputs": [
    {
     "data": {
      "text/plain": "9      512\n10    1024\ndtype: int64"
     },
     "execution_count": 44,
     "metadata": {},
     "output_type": "execute_result"
    }
   ],
   "source": [
    "BM = twopowers_sr >=500\n",
    "twopowers_sr[BM]"
   ]
  },
  {
   "cell_type": "code",
   "execution_count": 45,
   "metadata": {
    "ExecuteTime": {
     "end_time": "2023-08-01T22:39:31.068785800Z",
     "start_time": "2023-08-01T22:39:07.419505Z"
    }
   },
   "outputs": [
    {
     "data": {
      "text/plain": "9      512\n10    1024\ndtype: int64"
     },
     "execution_count": 45,
     "metadata": {},
     "output_type": "execute_result"
    }
   ],
   "source": [
    "twopowers_sr[twopowers_sr >=500]"
   ]
  },
  {
   "cell_type": "code",
   "execution_count": 46,
   "metadata": {
    "ExecuteTime": {
     "end_time": "2023-08-01T22:39:31.811358800Z",
     "start_time": "2023-08-01T22:39:07.441500100Z"
    }
   },
   "outputs": [
    {
     "name": "stdout",
     "output_type": "stream",
     "text": [
      "Mean: 42.76470588235294\n",
      "Median: 41.0\n"
     ]
    }
   ],
   "source": [
    "BM = adult_df.education == 'Preschool'\n",
    "print('Mean: {}'.format(np.mean(adult_df[BM].age)))\n",
    "print('Median: {}'.format(np.median(adult_df[BM].age)))"
   ]
  },
  {
   "cell_type": "code",
   "execution_count": 47,
   "metadata": {
    "ExecuteTime": {
     "end_time": "2023-08-01T22:39:32.235116Z",
     "start_time": "2023-08-01T22:39:07.985391500Z"
    }
   },
   "outputs": [
    {
     "name": "stdout",
     "output_type": "stream",
     "text": [
      "More than 10 years of education - Capital Gain: 2230.9397109166985\n",
      "Less than 10 years of education - Capital Gain: 492.25532059102613\n"
     ]
    }
   ],
   "source": [
    "BM1 = adult_df['education-num'] > 10\n",
    "BM2 = adult_df['education-num'] < 10\n",
    "\n",
    "print('More than 10 years of education - Capital Gain: {}'\n",
    "      .format(np.mean(adult_df[BM1].capitalGain)))\n",
    "print('Less than 10 years of education - Capital Gain: {}'\n",
    "      .format(np.mean(adult_df[BM2].capitalGain)))"
   ]
  },
  {
   "cell_type": "markdown",
   "metadata": {},
   "source": [
    "# Get to know a dataset"
   ]
  },
  {
   "cell_type": "code",
   "execution_count": 48,
   "metadata": {
    "ExecuteTime": {
     "end_time": "2023-08-01T22:39:32.287086600Z",
     "start_time": "2023-08-01T22:39:08.460036900Z"
    }
   },
   "outputs": [
    {
     "data": {
      "text/plain": "(32561, 15)"
     },
     "execution_count": 48,
     "metadata": {},
     "output_type": "execute_result"
    }
   ],
   "source": [
    "adult_df.shape"
   ]
  },
  {
   "cell_type": "code",
   "execution_count": 49,
   "metadata": {
    "ExecuteTime": {
     "end_time": "2023-08-01T22:39:32.288085300Z",
     "start_time": "2023-08-01T22:39:14.253705200Z"
    }
   },
   "outputs": [
    {
     "data": {
      "text/plain": "Index(['age', 'workclass', 'fnlwgt', 'education', 'education-num',\n       'marital-status', 'occupation', 'relationship', 'race', 'sex',\n       'capitalGain', 'capitalLoss', 'hoursPerWeek', 'nativeCountry',\n       'income'],\n      dtype='object')"
     },
     "execution_count": 49,
     "metadata": {},
     "output_type": "execute_result"
    }
   ],
   "source": [
    "adult_df.columns"
   ]
  },
  {
   "cell_type": "code",
   "execution_count": 50,
   "metadata": {
    "ExecuteTime": {
     "end_time": "2023-08-01T22:39:32.289086100Z",
     "start_time": "2023-08-01T22:39:14.254704600Z"
    }
   },
   "outputs": [],
   "source": [
    "adult_df.columns = ['age', 'workclass', 'fnlwgt', 'education', \n",
    "                    'education_num', 'marital_status', 'occupation',\n",
    "                    'relationship', 'race', 'sex', 'capitalGain',\n",
    "                    'capitalLoss', 'hoursPerWeek', 'nativeCountry',\n",
    "                    'income']"
   ]
  },
  {
   "cell_type": "code",
   "execution_count": 51,
   "metadata": {
    "ExecuteTime": {
     "end_time": "2023-08-01T22:39:32.294081400Z",
     "start_time": "2023-08-01T22:39:14.254704600Z"
    }
   },
   "outputs": [
    {
     "data": {
      "text/plain": "                age        fnlwgt  education_num   capitalGain   capitalLoss  \\\ncount  32561.000000  3.256100e+04   32561.000000  32561.000000  32561.000000   \nmean      38.581647  1.897784e+05      10.080679   1077.648844     87.303830   \nstd       13.640433  1.055500e+05       2.572720   7385.292085    402.960219   \nmin       17.000000  1.228500e+04       1.000000      0.000000      0.000000   \n25%       28.000000  1.178270e+05       9.000000      0.000000      0.000000   \n50%       37.000000  1.783560e+05      10.000000      0.000000      0.000000   \n75%       48.000000  2.370510e+05      12.000000      0.000000      0.000000   \nmax       90.000000  1.484705e+06      16.000000  99999.000000   4356.000000   \n\n       hoursPerWeek  \ncount  32561.000000  \nmean      40.437456  \nstd       12.347429  \nmin        1.000000  \n25%       40.000000  \n50%       40.000000  \n75%       45.000000  \nmax       99.000000  ",
      "text/html": "<div>\n<style scoped>\n    .dataframe tbody tr th:only-of-type {\n        vertical-align: middle;\n    }\n\n    .dataframe tbody tr th {\n        vertical-align: top;\n    }\n\n    .dataframe thead th {\n        text-align: right;\n    }\n</style>\n<table border=\"1\" class=\"dataframe\">\n  <thead>\n    <tr style=\"text-align: right;\">\n      <th></th>\n      <th>age</th>\n      <th>fnlwgt</th>\n      <th>education_num</th>\n      <th>capitalGain</th>\n      <th>capitalLoss</th>\n      <th>hoursPerWeek</th>\n    </tr>\n  </thead>\n  <tbody>\n    <tr>\n      <th>count</th>\n      <td>32561.000000</td>\n      <td>3.256100e+04</td>\n      <td>32561.000000</td>\n      <td>32561.000000</td>\n      <td>32561.000000</td>\n      <td>32561.000000</td>\n    </tr>\n    <tr>\n      <th>mean</th>\n      <td>38.581647</td>\n      <td>1.897784e+05</td>\n      <td>10.080679</td>\n      <td>1077.648844</td>\n      <td>87.303830</td>\n      <td>40.437456</td>\n    </tr>\n    <tr>\n      <th>std</th>\n      <td>13.640433</td>\n      <td>1.055500e+05</td>\n      <td>2.572720</td>\n      <td>7385.292085</td>\n      <td>402.960219</td>\n      <td>12.347429</td>\n    </tr>\n    <tr>\n      <th>min</th>\n      <td>17.000000</td>\n      <td>1.228500e+04</td>\n      <td>1.000000</td>\n      <td>0.000000</td>\n      <td>0.000000</td>\n      <td>1.000000</td>\n    </tr>\n    <tr>\n      <th>25%</th>\n      <td>28.000000</td>\n      <td>1.178270e+05</td>\n      <td>9.000000</td>\n      <td>0.000000</td>\n      <td>0.000000</td>\n      <td>40.000000</td>\n    </tr>\n    <tr>\n      <th>50%</th>\n      <td>37.000000</td>\n      <td>1.783560e+05</td>\n      <td>10.000000</td>\n      <td>0.000000</td>\n      <td>0.000000</td>\n      <td>40.000000</td>\n    </tr>\n    <tr>\n      <th>75%</th>\n      <td>48.000000</td>\n      <td>2.370510e+05</td>\n      <td>12.000000</td>\n      <td>0.000000</td>\n      <td>0.000000</td>\n      <td>45.000000</td>\n    </tr>\n    <tr>\n      <th>max</th>\n      <td>90.000000</td>\n      <td>1.484705e+06</td>\n      <td>16.000000</td>\n      <td>99999.000000</td>\n      <td>4356.000000</td>\n      <td>99.000000</td>\n    </tr>\n  </tbody>\n</table>\n</div>"
     },
     "execution_count": 51,
     "metadata": {},
     "output_type": "execute_result"
    }
   ],
   "source": [
    "adult_df.describe()"
   ]
  },
  {
   "cell_type": "code",
   "execution_count": 52,
   "metadata": {
    "ExecuteTime": {
     "end_time": "2023-08-01T22:39:32.297080800Z",
     "start_time": "2023-08-01T22:39:14.255704400Z"
    }
   },
   "outputs": [
    {
     "data": {
      "text/plain": "<Axes: ylabel='Frequency'>"
     },
     "execution_count": 52,
     "metadata": {},
     "output_type": "execute_result"
    },
    {
     "data": {
      "text/plain": "<Figure size 640x480 with 1 Axes>",
      "image/png": "[encoded data removed]"
     },
     "metadata": {},
     "output_type": "display_data"
    }
   ],
   "source": [
    "adult_df.age.plot.hist()"
   ]
  },
  {
   "cell_type": "code",
   "execution_count": 53,
   "metadata": {
    "ExecuteTime": {
     "end_time": "2023-08-01T22:39:32.298080500Z",
     "start_time": "2023-08-01T22:39:21.402020Z"
    }
   },
   "outputs": [
    {
     "data": {
      "text/plain": "array(['Not-in-family', 'Husband', 'Wife', 'Own-child', 'Unmarried',\n       'Other-relative'], dtype=object)"
     },
     "execution_count": 53,
     "metadata": {},
     "output_type": "execute_result"
    }
   ],
   "source": [
    "adult_df.relationship.unique()"
   ]
  },
  {
   "cell_type": "code",
   "execution_count": 54,
   "metadata": {
    "ExecuteTime": {
     "end_time": "2023-08-01T22:39:32.299079400Z",
     "start_time": "2023-08-01T22:39:21.403019500Z"
    }
   },
   "outputs": [
    {
     "data": {
      "text/plain": "Husband           13193\nNot-in-family      8305\nOwn-child          5068\nUnmarried          3446\nWife               1568\nOther-relative      981\nName: relationship, dtype: int64"
     },
     "execution_count": 54,
     "metadata": {},
     "output_type": "execute_result"
    }
   ],
   "source": [
    "adult_df.relationship.value_counts()"
   ]
  },
  {
   "cell_type": "code",
   "execution_count": 55,
   "metadata": {
    "ExecuteTime": {
     "end_time": "2023-08-01T22:39:34.766631Z",
     "start_time": "2023-08-01T22:39:25.031937Z"
    }
   },
   "outputs": [
    {
     "data": {
      "text/plain": "<Axes: >"
     },
     "execution_count": 55,
     "metadata": {},
     "output_type": "execute_result"
    },
    {
     "data": {
      "text/plain": "<Figure size 640x480 with 1 Axes>",
      "image/png": "[encoded data removed]"
     },
     "metadata": {},
     "output_type": "display_data"
    }
   ],
   "source": [
    "adult_df.relationship.value_counts().plot.bar()"
   ]
  },
  {
   "cell_type": "markdown",
   "metadata": {},
   "source": [
    "# Appy a function"
   ]
  },
  {
   "cell_type": "code",
   "execution_count": 56,
   "metadata": {
    "ExecuteTime": {
     "end_time": "2023-08-01T22:39:56.680156700Z",
     "start_time": "2023-08-01T22:39:55.953766400Z"
    }
   },
   "outputs": [
    {
     "data": {
      "text/plain": "10000     78\n10001    100\n10002     76\n10003    106\n10004     56\n        ... \n42556     54\n42557     80\n42558    116\n42559     44\n42560    104\nName: age, Length: 32561, dtype: int64"
     },
     "execution_count": 56,
     "metadata": {},
     "output_type": "execute_result"
    }
   ],
   "source": [
    "def MultiplyBy2(n):\n",
    "    return n*2\n",
    "\n",
    "adult_df.age.apply(MultiplyBy2)"
   ]
  },
  {
   "cell_type": "markdown",
   "metadata": {},
   "source": [
    "### Applying a Function - Analytic Example 1\n",
    "Divide every value in column fnlwgt by the sum of all its values."
   ]
  },
  {
   "cell_type": "code",
   "execution_count": 57,
   "metadata": {
    "ExecuteTime": {
     "end_time": "2023-08-01T22:39:57.045947900Z",
     "start_time": "2023-08-01T22:39:56.094686700Z"
    }
   },
   "outputs": [
    {
     "data": {
      "text/plain": "       age         workclass    fnlwgt   education  education_num  \\\n10000   39         State-gov  0.001254   Bachelors             13   \n10001   50  Self-emp-not-inc  0.001348   Bachelors             13   \n10002   38           Private  0.003490     HS-grad              9   \n10003   53           Private  0.003798        11th              7   \n10004   28           Private  0.005476   Bachelors             13   \n...    ...               ...       ...         ...            ...   \n42556   27           Private  0.004164  Assoc-acdm             12   \n42557   40           Private  0.002498     HS-grad              9   \n42558   58           Private  0.002458     HS-grad              9   \n42559   22           Private  0.003261     HS-grad              9   \n42560   52      Self-emp-inc  0.004659     HS-grad              9   \n\n           marital_status         occupation   relationship   race     sex  \\\n10000       Never-married       Adm-clerical  Not-in-family  White    Male   \n10001  Married-civ-spouse    Exec-managerial        Husband  White    Male   \n10002            Divorced  Handlers-cleaners  Not-in-family  White    Male   \n10003  Married-civ-spouse  Handlers-cleaners        Husband  Black    Male   \n10004  Married-civ-spouse     Prof-specialty           Wife  Black  Female   \n...                   ...                ...            ...    ...     ...   \n42556  Married-civ-spouse       Tech-support           Wife  White  Female   \n42557  Married-civ-spouse  Machine-op-inspct        Husband  White    Male   \n42558             Widowed       Adm-clerical      Unmarried  White  Female   \n42559       Never-married       Adm-clerical      Own-child  White    Male   \n42560  Married-civ-spouse    Exec-managerial           Wife  White  Female   \n\n       capitalGain  capitalLoss  hoursPerWeek  nativeCountry income  \n10000         2174            0            40  United-States  <=50K  \n10001            0            0            13  United-States  <=50K  \n10002            0            0            40  United-States  <=50K  \n10003            0            0            40  United-States  <=50K  \n10004            0            0            40           Cuba  <=50K  \n...            ...          ...           ...            ...    ...  \n42556            0            0            38  United-States  <=50K  \n42557            0            0            40  United-States   >50K  \n42558            0            0            40  United-States  <=50K  \n42559            0            0            20  United-States  <=50K  \n42560        15024            0            40  United-States   >50K  \n\n[32561 rows x 15 columns]",
      "text/html": "<div>\n<style scoped>\n    .dataframe tbody tr th:only-of-type {\n        vertical-align: middle;\n    }\n\n    .dataframe tbody tr th {\n        vertical-align: top;\n    }\n\n    .dataframe thead th {\n        text-align: right;\n    }\n</style>\n<table border=\"1\" class=\"dataframe\">\n  <thead>\n    <tr style=\"text-align: right;\">\n      <th></th>\n      <th>age</th>\n      <th>workclass</th>\n      <th>fnlwgt</th>\n      <th>education</th>\n      <th>education_num</th>\n      <th>marital_status</th>\n      <th>occupation</th>\n      <th>relationship</th>\n      <th>race</th>\n      <th>sex</th>\n      <th>capitalGain</th>\n      <th>capitalLoss</th>\n      <th>hoursPerWeek</th>\n      <th>nativeCountry</th>\n      <th>income</th>\n    </tr>\n  </thead>\n  <tbody>\n    <tr>\n      <th>10000</th>\n      <td>39</td>\n      <td>State-gov</td>\n      <td>0.001254</td>\n      <td>Bachelors</td>\n      <td>13</td>\n      <td>Never-married</td>\n      <td>Adm-clerical</td>\n      <td>Not-in-family</td>\n      <td>White</td>\n      <td>Male</td>\n      <td>2174</td>\n      <td>0</td>\n      <td>40</td>\n      <td>United-States</td>\n      <td>&lt;=50K</td>\n    </tr>\n    <tr>\n      <th>10001</th>\n      <td>50</td>\n      <td>Self-emp-not-inc</td>\n      <td>0.001348</td>\n      <td>Bachelors</td>\n      <td>13</td>\n      <td>Married-civ-spouse</td>\n      <td>Exec-managerial</td>\n      <td>Husband</td>\n      <td>White</td>\n      <td>Male</td>\n      <td>0</td>\n      <td>0</td>\n      <td>13</td>\n      <td>United-States</td>\n      <td>&lt;=50K</td>\n    </tr>\n    <tr>\n      <th>10002</th>\n      <td>38</td>\n      <td>Private</td>\n      <td>0.003490</td>\n      <td>HS-grad</td>\n      <td>9</td>\n      <td>Divorced</td>\n      <td>Handlers-cleaners</td>\n      <td>Not-in-family</td>\n      <td>White</td>\n      <td>Male</td>\n      <td>0</td>\n      <td>0</td>\n      <td>40</td>\n      <td>United-States</td>\n      <td>&lt;=50K</td>\n    </tr>\n    <tr>\n      <th>10003</th>\n      <td>53</td>\n      <td>Private</td>\n      <td>0.003798</td>\n      <td>11th</td>\n      <td>7</td>\n      <td>Married-civ-spouse</td>\n      <td>Handlers-cleaners</td>\n      <td>Husband</td>\n      <td>Black</td>\n      <td>Male</td>\n      <td>0</td>\n      <td>0</td>\n      <td>40</td>\n      <td>United-States</td>\n      <td>&lt;=50K</td>\n    </tr>\n    <tr>\n      <th>10004</th>\n      <td>28</td>\n      <td>Private</td>\n      <td>0.005476</td>\n      <td>Bachelors</td>\n      <td>13</td>\n      <td>Married-civ-spouse</td>\n      <td>Prof-specialty</td>\n      <td>Wife</td>\n      <td>Black</td>\n      <td>Female</td>\n      <td>0</td>\n      <td>0</td>\n      <td>40</td>\n      <td>Cuba</td>\n      <td>&lt;=50K</td>\n    </tr>\n    <tr>\n      <th>...</th>\n      <td>...</td>\n      <td>...</td>\n      <td>...</td>\n      <td>...</td>\n      <td>...</td>\n      <td>...</td>\n      <td>...</td>\n      <td>...</td>\n      <td>...</td>\n      <td>...</td>\n      <td>...</td>\n      <td>...</td>\n      <td>...</td>\n      <td>...</td>\n      <td>...</td>\n    </tr>\n    <tr>\n      <th>42556</th>\n      <td>27</td>\n      <td>Private</td>\n      <td>0.004164</td>\n      <td>Assoc-acdm</td>\n      <td>12</td>\n      <td>Married-civ-spouse</td>\n      <td>Tech-support</td>\n      <td>Wife</td>\n      <td>White</td>\n      <td>Female</td>\n      <td>0</td>\n      <td>0</td>\n      <td>38</td>\n      <td>United-States</td>\n      <td>&lt;=50K</td>\n    </tr>\n    <tr>\n      <th>42557</th>\n      <td>40</td>\n      <td>Private</td>\n      <td>0.002498</td>\n      <td>HS-grad</td>\n      <td>9</td>\n      <td>Married-civ-spouse</td>\n      <td>Machine-op-inspct</td>\n      <td>Husband</td>\n      <td>White</td>\n      <td>Male</td>\n      <td>0</td>\n      <td>0</td>\n      <td>40</td>\n      <td>United-States</td>\n      <td>&gt;50K</td>\n    </tr>\n    <tr>\n      <th>42558</th>\n      <td>58</td>\n      <td>Private</td>\n      <td>0.002458</td>\n      <td>HS-grad</td>\n      <td>9</td>\n      <td>Widowed</td>\n      <td>Adm-clerical</td>\n      <td>Unmarried</td>\n      <td>White</td>\n      <td>Female</td>\n      <td>0</td>\n      <td>0</td>\n      <td>40</td>\n      <td>United-States</td>\n      <td>&lt;=50K</td>\n    </tr>\n    <tr>\n      <th>42559</th>\n      <td>22</td>\n      <td>Private</td>\n      <td>0.003261</td>\n      <td>HS-grad</td>\n      <td>9</td>\n      <td>Never-married</td>\n      <td>Adm-clerical</td>\n      <td>Own-child</td>\n      <td>White</td>\n      <td>Male</td>\n      <td>0</td>\n      <td>0</td>\n      <td>20</td>\n      <td>United-States</td>\n      <td>&lt;=50K</td>\n    </tr>\n    <tr>\n      <th>42560</th>\n      <td>52</td>\n      <td>Self-emp-inc</td>\n      <td>0.004659</td>\n      <td>HS-grad</td>\n      <td>9</td>\n      <td>Married-civ-spouse</td>\n      <td>Exec-managerial</td>\n      <td>Wife</td>\n      <td>White</td>\n      <td>Female</td>\n      <td>15024</td>\n      <td>0</td>\n      <td>40</td>\n      <td>United-States</td>\n      <td>&gt;50K</td>\n    </tr>\n  </tbody>\n</table>\n<p>32561 rows × 15 columns</p>\n</div>"
     },
     "execution_count": 57,
     "metadata": {},
     "output_type": "execute_result"
    }
   ],
   "source": [
    "total_fnlwgt = adult_df.fnlwgt.sum()\n",
    "\n",
    "def CalculatePercentage(v):\n",
    "    return v/total_fnlwgt*100\n",
    "\n",
    "adult_df.fnlwgt = adult_df.fnlwgt.apply(CalculatePercentage)\n",
    "adult_df"
   ]
  },
  {
   "cell_type": "code",
   "execution_count": 58,
   "metadata": {
    "ExecuteTime": {
     "end_time": "2023-08-01T22:39:57.131897700Z",
     "start_time": "2023-08-01T22:39:56.226787Z"
    }
   },
   "outputs": [
    {
     "data": {
      "text/plain": "       age         workclass    fnlwgt   education  education_num  \\\n10000   39         State-gov  0.001254   Bachelors             13   \n10001   50  Self-emp-not-inc  0.001348   Bachelors             13   \n10002   38           Private  0.003490     HS-grad              9   \n10003   53           Private  0.003798        11th              7   \n10004   28           Private  0.005476   Bachelors             13   \n...    ...               ...       ...         ...            ...   \n42556   27           Private  0.004164  Assoc-acdm             12   \n42557   40           Private  0.002498     HS-grad              9   \n42558   58           Private  0.002458     HS-grad              9   \n42559   22           Private  0.003261     HS-grad              9   \n42560   52      Self-emp-inc  0.004659     HS-grad              9   \n\n           marital_status         occupation   relationship   race     sex  \\\n10000       Never-married       Adm-clerical  Not-in-family  White    Male   \n10001  Married-civ-spouse    Exec-managerial        Husband  White    Male   \n10002            Divorced  Handlers-cleaners  Not-in-family  White    Male   \n10003  Married-civ-spouse  Handlers-cleaners        Husband  Black    Male   \n10004  Married-civ-spouse     Prof-specialty           Wife  Black  Female   \n...                   ...                ...            ...    ...     ...   \n42556  Married-civ-spouse       Tech-support           Wife  White  Female   \n42557  Married-civ-spouse  Machine-op-inspct        Husband  White    Male   \n42558             Widowed       Adm-clerical      Unmarried  White  Female   \n42559       Never-married       Adm-clerical      Own-child  White    Male   \n42560  Married-civ-spouse    Exec-managerial           Wife  White  Female   \n\n       capitalGain  capitalLoss  hoursPerWeek  nativeCountry income  \n10000         2174            0            40  United-States  <=50K  \n10001            0            0            13  United-States  <=50K  \n10002            0            0            40  United-States  <=50K  \n10003            0            0            40  United-States  <=50K  \n10004            0            0            40           Cuba  <=50K  \n...            ...          ...           ...            ...    ...  \n42556            0            0            38  United-States  <=50K  \n42557            0            0            40  United-States   >50K  \n42558            0            0            40  United-States  <=50K  \n42559            0            0            20  United-States  <=50K  \n42560        15024            0            40  United-States   >50K  \n\n[32561 rows x 15 columns]",
      "text/html": "<div>\n<style scoped>\n    .dataframe tbody tr th:only-of-type {\n        vertical-align: middle;\n    }\n\n    .dataframe tbody tr th {\n        vertical-align: top;\n    }\n\n    .dataframe thead th {\n        text-align: right;\n    }\n</style>\n<table border=\"1\" class=\"dataframe\">\n  <thead>\n    <tr style=\"text-align: right;\">\n      <th></th>\n      <th>age</th>\n      <th>workclass</th>\n      <th>fnlwgt</th>\n      <th>education</th>\n      <th>education_num</th>\n      <th>marital_status</th>\n      <th>occupation</th>\n      <th>relationship</th>\n      <th>race</th>\n      <th>sex</th>\n      <th>capitalGain</th>\n      <th>capitalLoss</th>\n      <th>hoursPerWeek</th>\n      <th>nativeCountry</th>\n      <th>income</th>\n    </tr>\n  </thead>\n  <tbody>\n    <tr>\n      <th>10000</th>\n      <td>39</td>\n      <td>State-gov</td>\n      <td>0.001254</td>\n      <td>Bachelors</td>\n      <td>13</td>\n      <td>Never-married</td>\n      <td>Adm-clerical</td>\n      <td>Not-in-family</td>\n      <td>White</td>\n      <td>Male</td>\n      <td>2174</td>\n      <td>0</td>\n      <td>40</td>\n      <td>United-States</td>\n      <td>&lt;=50K</td>\n    </tr>\n    <tr>\n      <th>10001</th>\n      <td>50</td>\n      <td>Self-emp-not-inc</td>\n      <td>0.001348</td>\n      <td>Bachelors</td>\n      <td>13</td>\n      <td>Married-civ-spouse</td>\n      <td>Exec-managerial</td>\n      <td>Husband</td>\n      <td>White</td>\n      <td>Male</td>\n      <td>0</td>\n      <td>0</td>\n      <td>13</td>\n      <td>United-States</td>\n      <td>&lt;=50K</td>\n    </tr>\n    <tr>\n      <th>10002</th>\n      <td>38</td>\n      <td>Private</td>\n      <td>0.003490</td>\n      <td>HS-grad</td>\n      <td>9</td>\n      <td>Divorced</td>\n      <td>Handlers-cleaners</td>\n      <td>Not-in-family</td>\n      <td>White</td>\n      <td>Male</td>\n      <td>0</td>\n      <td>0</td>\n      <td>40</td>\n      <td>United-States</td>\n      <td>&lt;=50K</td>\n    </tr>\n    <tr>\n      <th>10003</th>\n      <td>53</td>\n      <td>Private</td>\n      <td>0.003798</td>\n      <td>11th</td>\n      <td>7</td>\n      <td>Married-civ-spouse</td>\n      <td>Handlers-cleaners</td>\n      <td>Husband</td>\n      <td>Black</td>\n      <td>Male</td>\n      <td>0</td>\n      <td>0</td>\n      <td>40</td>\n      <td>United-States</td>\n      <td>&lt;=50K</td>\n    </tr>\n    <tr>\n      <th>10004</th>\n      <td>28</td>\n      <td>Private</td>\n      <td>0.005476</td>\n      <td>Bachelors</td>\n      <td>13</td>\n      <td>Married-civ-spouse</td>\n      <td>Prof-specialty</td>\n      <td>Wife</td>\n      <td>Black</td>\n      <td>Female</td>\n      <td>0</td>\n      <td>0</td>\n      <td>40</td>\n      <td>Cuba</td>\n      <td>&lt;=50K</td>\n    </tr>\n    <tr>\n      <th>...</th>\n      <td>...</td>\n      <td>...</td>\n      <td>...</td>\n      <td>...</td>\n      <td>...</td>\n      <td>...</td>\n      <td>...</td>\n      <td>...</td>\n      <td>...</td>\n      <td>...</td>\n      <td>...</td>\n      <td>...</td>\n      <td>...</td>\n      <td>...</td>\n      <td>...</td>\n    </tr>\n    <tr>\n      <th>42556</th>\n      <td>27</td>\n      <td>Private</td>\n      <td>0.004164</td>\n      <td>Assoc-acdm</td>\n      <td>12</td>\n      <td>Married-civ-spouse</td>\n      <td>Tech-support</td>\n      <td>Wife</td>\n      <td>White</td>\n      <td>Female</td>\n      <td>0</td>\n      <td>0</td>\n      <td>38</td>\n      <td>United-States</td>\n      <td>&lt;=50K</td>\n    </tr>\n    <tr>\n      <th>42557</th>\n      <td>40</td>\n      <td>Private</td>\n      <td>0.002498</td>\n      <td>HS-grad</td>\n      <td>9</td>\n      <td>Married-civ-spouse</td>\n      <td>Machine-op-inspct</td>\n      <td>Husband</td>\n      <td>White</td>\n      <td>Male</td>\n      <td>0</td>\n      <td>0</td>\n      <td>40</td>\n      <td>United-States</td>\n      <td>&gt;50K</td>\n    </tr>\n    <tr>\n      <th>42558</th>\n      <td>58</td>\n      <td>Private</td>\n      <td>0.002458</td>\n      <td>HS-grad</td>\n      <td>9</td>\n      <td>Widowed</td>\n      <td>Adm-clerical</td>\n      <td>Unmarried</td>\n      <td>White</td>\n      <td>Female</td>\n      <td>0</td>\n      <td>0</td>\n      <td>40</td>\n      <td>United-States</td>\n      <td>&lt;=50K</td>\n    </tr>\n    <tr>\n      <th>42559</th>\n      <td>22</td>\n      <td>Private</td>\n      <td>0.003261</td>\n      <td>HS-grad</td>\n      <td>9</td>\n      <td>Never-married</td>\n      <td>Adm-clerical</td>\n      <td>Own-child</td>\n      <td>White</td>\n      <td>Male</td>\n      <td>0</td>\n      <td>0</td>\n      <td>20</td>\n      <td>United-States</td>\n      <td>&lt;=50K</td>\n    </tr>\n    <tr>\n      <th>42560</th>\n      <td>52</td>\n      <td>Self-emp-inc</td>\n      <td>0.004659</td>\n      <td>HS-grad</td>\n      <td>9</td>\n      <td>Married-civ-spouse</td>\n      <td>Exec-managerial</td>\n      <td>Wife</td>\n      <td>White</td>\n      <td>Female</td>\n      <td>15024</td>\n      <td>0</td>\n      <td>40</td>\n      <td>United-States</td>\n      <td>&gt;50K</td>\n    </tr>\n  </tbody>\n</table>\n<p>32561 rows × 15 columns</p>\n</div>"
     },
     "execution_count": 58,
     "metadata": {},
     "output_type": "execute_result"
    }
   ],
   "source": [
    "total_fnlwgt = adult_df.fnlwgt.sum()\n",
    "\n",
    "adult_df.fnlwgt = adult_df.fnlwgt.apply(lambda v: v/total_fnlwgt*100)\n",
    "adult_df"
   ]
  },
  {
   "cell_type": "code",
   "execution_count": 59,
   "metadata": {
    "ExecuteTime": {
     "end_time": "2023-08-01T22:40:09.253575200Z",
     "start_time": "2023-08-01T22:39:56.488266700Z"
    }
   },
   "outputs": [
    {
     "data": {
      "text/plain": "10000    26\n10001    37\n10002    29\n10003    46\n10004    15\n         ..\n42556    15\n42557    31\n42558    49\n42559    13\n42560    43\nLength: 32561, dtype: int64"
     },
     "execution_count": 59,
     "metadata": {},
     "output_type": "execute_result"
    }
   ],
   "source": [
    "def CalcLifeNoEd(row):\n",
    "    return row.age - row.education_num\n",
    "\n",
    "adult_df.apply(CalcLifeNoEd,axis=1)"
   ]
  },
  {
   "cell_type": "code",
   "execution_count": 60,
   "metadata": {
    "ExecuteTime": {
     "end_time": "2023-08-01T22:40:09.256574100Z",
     "start_time": "2023-08-01T22:40:02.961187800Z"
    }
   },
   "outputs": [
    {
     "data": {
      "text/plain": "10000    26\n10001    37\n10002    29\n10003    46\n10004    15\n         ..\n42556    15\n42557    31\n42558    49\n42559    13\n42560    43\nLength: 32561, dtype: int64"
     },
     "execution_count": 60,
     "metadata": {},
     "output_type": "execute_result"
    }
   ],
   "source": [
    "adult_df.apply(lambda r: r.age-r.education_num,axis=1)"
   ]
  },
  {
   "cell_type": "code",
   "execution_count": 61,
   "metadata": {
    "ExecuteTime": {
     "end_time": "2023-08-01T22:40:18.617481200Z",
     "start_time": "2023-08-01T22:40:02.961187800Z"
    }
   },
   "outputs": [
    {
     "data": {
      "text/plain": "               education_num  lifeNoEd  capitalNet\neducation_num       1.000000 -0.150452    0.117891\nlifeNoEd           -0.150452  1.000000    0.051490\ncapitalNet          0.117891  0.051490    1.000000",
      "text/html": "<div>\n<style scoped>\n    .dataframe tbody tr th:only-of-type {\n        vertical-align: middle;\n    }\n\n    .dataframe tbody tr th {\n        vertical-align: top;\n    }\n\n    .dataframe thead th {\n        text-align: right;\n    }\n</style>\n<table border=\"1\" class=\"dataframe\">\n  <thead>\n    <tr style=\"text-align: right;\">\n      <th></th>\n      <th>education_num</th>\n      <th>lifeNoEd</th>\n      <th>capitalNet</th>\n    </tr>\n  </thead>\n  <tbody>\n    <tr>\n      <th>education_num</th>\n      <td>1.000000</td>\n      <td>-0.150452</td>\n      <td>0.117891</td>\n    </tr>\n    <tr>\n      <th>lifeNoEd</th>\n      <td>-0.150452</td>\n      <td>1.000000</td>\n      <td>0.051490</td>\n    </tr>\n    <tr>\n      <th>capitalNet</th>\n      <td>0.117891</td>\n      <td>0.051490</td>\n      <td>1.000000</td>\n    </tr>\n  </tbody>\n</table>\n</div>"
     },
     "execution_count": 61,
     "metadata": {},
     "output_type": "execute_result"
    }
   ],
   "source": [
    "adult_df['lifeNoEd'] = adult_df.apply(\n",
    "    lambda r: r.age-r.education_num,axis=1)\n",
    "\n",
    "adult_df['capitalNet'] = adult_df.apply(\n",
    "    lambda r: r.capitalGain - r.capitalLoss,axis=1)\n",
    "\n",
    "adult_df[['education_num','lifeNoEd','capitalNet']].corr()"
   ]
  },
  {
   "cell_type": "markdown",
   "metadata": {},
   "source": [
    "# Groupby"
   ]
  },
  {
   "cell_type": "code",
   "execution_count": 62,
   "metadata": {
    "ExecuteTime": {
     "end_time": "2023-08-01T22:40:18.619480600Z",
     "start_time": "2023-08-01T22:40:14.871356Z"
    }
   },
   "outputs": [
    {
     "data": {
      "text/plain": "marital_status         sex   \nDivorced               Female    43.0\n                       Male      42.0\nMarried-AF-spouse      Female    31.0\n                       Male      29.0\nMarried-civ-spouse     Female    38.0\n                       Male      43.0\nMarried-spouse-absent  Female    39.0\n                       Male      41.0\nNever-married          Female    25.0\n                       Male      25.0\nSeparated              Female    39.0\n                       Male      38.0\nWidowed                Female    60.0\n                       Male      62.5\nName: age, dtype: float64"
     },
     "execution_count": 62,
     "metadata": {},
     "output_type": "execute_result"
    }
   ],
   "source": [
    "adult_df.groupby(['marital_status','sex']).age.median()"
   ]
  },
  {
   "cell_type": "code",
   "execution_count": 63,
   "metadata": {
    "ExecuteTime": {
     "end_time": "2023-08-01T22:40:18.642466700Z",
     "start_time": "2023-08-01T22:40:14.872356600Z"
    }
   },
   "outputs": [
    {
     "data": {
      "text/plain": "race                sex   \nAmer-Indian-Eskimo  Female     530.142857\n                    Male       628.864583\nAsian-Pac-Islander  Female     727.583815\n                    Male      1707.440115\nBlack               Female     471.142765\n                    Male       627.268324\nOther               Female     218.385321\n                    Male      1314.438272\nWhite               Female     508.219857\n                    Male      1266.413112\nName: capitalNet, dtype: float64"
     },
     "execution_count": 63,
     "metadata": {},
     "output_type": "execute_result"
    }
   ],
   "source": [
    "adult_df.groupby(['race','sex']).capitalNet.mean()"
   ]
  },
  {
   "cell_type": "code",
   "execution_count": 64,
   "metadata": {
    "scrolled": false,
    "ExecuteTime": {
     "end_time": "2023-08-01T22:40:18.643466800Z",
     "start_time": "2023-08-01T22:40:14.873356Z"
    }
   },
   "outputs": [
    {
     "name": "stdout",
     "output_type": "stream",
     "text": [
      "MultiIndex([('Amer-Indian-Eskimo', 'Female'),\n",
      "            ('Amer-Indian-Eskimo',   'Male'),\n",
      "            ('Asian-Pac-Islander', 'Female'),\n",
      "            ('Asian-Pac-Islander',   'Male'),\n",
      "            (             'Black', 'Female'),\n",
      "            (             'Black',   'Male'),\n",
      "            (             'Other', 'Female'),\n",
      "            (             'Other',   'Male'),\n",
      "            (             'White', 'Female'),\n",
      "            (             'White',   'Male')],\n",
      "           names=['race', 'sex'])\n"
     ]
    }
   ],
   "source": [
    "grb_result =adult_df.groupby(['race','sex']).capitalNet.mean()\n",
    "\n",
    "print(grb_result.index)"
   ]
  },
  {
   "cell_type": "code",
   "execution_count": 65,
   "metadata": {
    "ExecuteTime": {
     "end_time": "2023-08-01T22:40:18.646475300Z",
     "start_time": "2023-08-01T22:40:14.875354100Z"
    }
   },
   "outputs": [
    {
     "data": {
      "text/plain": "race                sex   \nAmer-Indian-Eskimo  Female     530.142857\n                    Male       628.864583\nAsian-Pac-Islander  Female     727.583815\n                    Male      1707.440115\nBlack               Female     471.142765\n                    Male       627.268324\nOther               Female     218.385321\n                    Male      1314.438272\nWhite               Female     508.219857\n                    Male      1266.413112\nName: capitalNet, dtype: float64"
     },
     "execution_count": 65,
     "metadata": {},
     "output_type": "execute_result"
    }
   ],
   "source": [
    "grb_result =adult_df.groupby(['race','sex']).capitalNet.mean()\n",
    "grb_result"
   ]
  },
  {
   "cell_type": "code",
   "execution_count": 66,
   "metadata": {
    "ExecuteTime": {
     "end_time": "2023-08-01T22:40:18.650462Z",
     "start_time": "2023-08-01T22:40:14.878353Z"
    }
   },
   "outputs": [
    {
     "data": {
      "text/plain": "sex                     Female         Male\nrace                                       \nAmer-Indian-Eskimo  530.142857   628.864583\nAsian-Pac-Islander  727.583815  1707.440115\nBlack               471.142765   627.268324\nOther               218.385321  1314.438272\nWhite               508.219857  1266.413112",
      "text/html": "<div>\n<style scoped>\n    .dataframe tbody tr th:only-of-type {\n        vertical-align: middle;\n    }\n\n    .dataframe tbody tr th {\n        vertical-align: top;\n    }\n\n    .dataframe thead th {\n        text-align: right;\n    }\n</style>\n<table border=\"1\" class=\"dataframe\">\n  <thead>\n    <tr style=\"text-align: right;\">\n      <th>sex</th>\n      <th>Female</th>\n      <th>Male</th>\n    </tr>\n    <tr>\n      <th>race</th>\n      <th></th>\n      <th></th>\n    </tr>\n  </thead>\n  <tbody>\n    <tr>\n      <th>Amer-Indian-Eskimo</th>\n      <td>530.142857</td>\n      <td>628.864583</td>\n    </tr>\n    <tr>\n      <th>Asian-Pac-Islander</th>\n      <td>727.583815</td>\n      <td>1707.440115</td>\n    </tr>\n    <tr>\n      <th>Black</th>\n      <td>471.142765</td>\n      <td>627.268324</td>\n    </tr>\n    <tr>\n      <th>Other</th>\n      <td>218.385321</td>\n      <td>1314.438272</td>\n    </tr>\n    <tr>\n      <th>White</th>\n      <td>508.219857</td>\n      <td>1266.413112</td>\n    </tr>\n  </tbody>\n</table>\n</div>"
     },
     "execution_count": 66,
     "metadata": {},
     "output_type": "execute_result"
    }
   ],
   "source": [
    "grb_result.unstack()"
   ]
  },
  {
   "cell_type": "code",
   "execution_count": 67,
   "metadata": {
    "ExecuteTime": {
     "end_time": "2023-08-01T22:40:18.652460300Z",
     "start_time": "2023-08-01T22:40:14.880351900Z"
    }
   },
   "outputs": [
    {
     "data": {
      "text/plain": "race                sex     income\nAmer-Indian-Eskimo  Female  <=50K     0.001764\n                            >50K      0.002395\n                    Male    <=50K     0.002046\n                            >50K      0.001954\nAsian-Pac-Islander  Female  <=50K     0.002398\n                            >50K      0.002305\n                    Male    <=50K     0.002652\n                            >50K      0.002762\nBlack               Female  <=50K     0.003454\n                            >50K      0.003331\n                    Male    <=50K     0.003922\n                            >50K      0.003971\nOther               Female  <=50K     0.002803\n                            >50K      0.002593\n                    Male    <=50K     0.003478\n                            >50K      0.003310\nWhite               Female  <=50K     0.002969\n                            >50K      0.002978\n                    Male    <=50K     0.003074\n                            >50K      0.003025\nName: fnlwgt, dtype: float64"
     },
     "execution_count": 67,
     "metadata": {},
     "output_type": "execute_result"
    }
   ],
   "source": [
    "mlt_seris =adult_df.groupby(['race','sex','income']).fnlwgt.mean()\n",
    "mlt_seris"
   ]
  },
  {
   "cell_type": "code",
   "execution_count": 68,
   "metadata": {
    "ExecuteTime": {
     "end_time": "2023-08-01T22:40:18.655459100Z",
     "start_time": "2023-08-01T22:40:14.882349900Z"
    }
   },
   "outputs": [
    {
     "data": {
      "text/plain": "income                        <=50K      >50K\nrace               sex                       \nAmer-Indian-Eskimo Female  0.001764  0.002395\n                   Male    0.002046  0.001954\nAsian-Pac-Islander Female  0.002398  0.002305\n                   Male    0.002652  0.002762\nBlack              Female  0.003454  0.003331\n                   Male    0.003922  0.003971\nOther              Female  0.002803  0.002593\n                   Male    0.003478  0.003310\nWhite              Female  0.002969  0.002978\n                   Male    0.003074  0.003025",
      "text/html": "<div>\n<style scoped>\n    .dataframe tbody tr th:only-of-type {\n        vertical-align: middle;\n    }\n\n    .dataframe tbody tr th {\n        vertical-align: top;\n    }\n\n    .dataframe thead th {\n        text-align: right;\n    }\n</style>\n<table border=\"1\" class=\"dataframe\">\n  <thead>\n    <tr style=\"text-align: right;\">\n      <th></th>\n      <th>income</th>\n      <th>&lt;=50K</th>\n      <th>&gt;50K</th>\n    </tr>\n    <tr>\n      <th>race</th>\n      <th>sex</th>\n      <th></th>\n      <th></th>\n    </tr>\n  </thead>\n  <tbody>\n    <tr>\n      <th rowspan=\"2\" valign=\"top\">Amer-Indian-Eskimo</th>\n      <th>Female</th>\n      <td>0.001764</td>\n      <td>0.002395</td>\n    </tr>\n    <tr>\n      <th>Male</th>\n      <td>0.002046</td>\n      <td>0.001954</td>\n    </tr>\n    <tr>\n      <th rowspan=\"2\" valign=\"top\">Asian-Pac-Islander</th>\n      <th>Female</th>\n      <td>0.002398</td>\n      <td>0.002305</td>\n    </tr>\n    <tr>\n      <th>Male</th>\n      <td>0.002652</td>\n      <td>0.002762</td>\n    </tr>\n    <tr>\n      <th rowspan=\"2\" valign=\"top\">Black</th>\n      <th>Female</th>\n      <td>0.003454</td>\n      <td>0.003331</td>\n    </tr>\n    <tr>\n      <th>Male</th>\n      <td>0.003922</td>\n      <td>0.003971</td>\n    </tr>\n    <tr>\n      <th rowspan=\"2\" valign=\"top\">Other</th>\n      <th>Female</th>\n      <td>0.002803</td>\n      <td>0.002593</td>\n    </tr>\n    <tr>\n      <th>Male</th>\n      <td>0.003478</td>\n      <td>0.003310</td>\n    </tr>\n    <tr>\n      <th rowspan=\"2\" valign=\"top\">White</th>\n      <th>Female</th>\n      <td>0.002969</td>\n      <td>0.002978</td>\n    </tr>\n    <tr>\n      <th>Male</th>\n      <td>0.003074</td>\n      <td>0.003025</td>\n    </tr>\n  </tbody>\n</table>\n</div>"
     },
     "execution_count": 68,
     "metadata": {},
     "output_type": "execute_result"
    }
   ],
   "source": [
    "\n",
    "mlt_seris.unstack()"
   ]
  },
  {
   "cell_type": "code",
   "execution_count": 69,
   "metadata": {
    "ExecuteTime": {
     "end_time": "2023-08-01T22:40:18.657458200Z",
     "start_time": "2023-08-01T22:40:14.889345900Z"
    }
   },
   "outputs": [
    {
     "data": {
      "text/plain": "income                 <=50K                >50K          \nsex                   Female      Male    Female      Male\nrace                                                      \nAmer-Indian-Eskimo  0.001764  0.002046  0.002395  0.001954\nAsian-Pac-Islander  0.002398  0.002652  0.002305  0.002762\nBlack               0.003454  0.003922  0.003331  0.003971\nOther               0.002803  0.003478  0.002593  0.003310\nWhite               0.002969  0.003074  0.002978  0.003025",
      "text/html": "<div>\n<style scoped>\n    .dataframe tbody tr th:only-of-type {\n        vertical-align: middle;\n    }\n\n    .dataframe tbody tr th {\n        vertical-align: top;\n    }\n\n    .dataframe thead tr th {\n        text-align: left;\n    }\n\n    .dataframe thead tr:last-of-type th {\n        text-align: right;\n    }\n</style>\n<table border=\"1\" class=\"dataframe\">\n  <thead>\n    <tr>\n      <th>income</th>\n      <th colspan=\"2\" halign=\"left\">&lt;=50K</th>\n      <th colspan=\"2\" halign=\"left\">&gt;50K</th>\n    </tr>\n    <tr>\n      <th>sex</th>\n      <th>Female</th>\n      <th>Male</th>\n      <th>Female</th>\n      <th>Male</th>\n    </tr>\n    <tr>\n      <th>race</th>\n      <th></th>\n      <th></th>\n      <th></th>\n      <th></th>\n    </tr>\n  </thead>\n  <tbody>\n    <tr>\n      <th>Amer-Indian-Eskimo</th>\n      <td>0.001764</td>\n      <td>0.002046</td>\n      <td>0.002395</td>\n      <td>0.001954</td>\n    </tr>\n    <tr>\n      <th>Asian-Pac-Islander</th>\n      <td>0.002398</td>\n      <td>0.002652</td>\n      <td>0.002305</td>\n      <td>0.002762</td>\n    </tr>\n    <tr>\n      <th>Black</th>\n      <td>0.003454</td>\n      <td>0.003922</td>\n      <td>0.003331</td>\n      <td>0.003971</td>\n    </tr>\n    <tr>\n      <th>Other</th>\n      <td>0.002803</td>\n      <td>0.003478</td>\n      <td>0.002593</td>\n      <td>0.003310</td>\n    </tr>\n    <tr>\n      <th>White</th>\n      <td>0.002969</td>\n      <td>0.003074</td>\n      <td>0.002978</td>\n      <td>0.003025</td>\n    </tr>\n  </tbody>\n</table>\n</div>"
     },
     "execution_count": 69,
     "metadata": {},
     "output_type": "execute_result"
    }
   ],
   "source": [
    "mlt_seris.unstack().unstack()"
   ]
  },
  {
   "cell_type": "code",
   "execution_count": 70,
   "metadata": {
    "ExecuteTime": {
     "end_time": "2023-08-01T22:40:18.658458100Z",
     "start_time": "2023-08-01T22:40:14.892344500Z"
    }
   },
   "outputs": [
    {
     "data": {
      "text/plain": "MultiIndex([('<=50K', 'Female'),\n            ('<=50K',   'Male'),\n            ( '>50K', 'Female'),\n            ( '>50K',   'Male')],\n           names=['income', 'sex'])"
     },
     "execution_count": 70,
     "metadata": {},
     "output_type": "execute_result"
    }
   ],
   "source": [
    "mlt_df= mlt_seris.unstack().unstack()\n",
    "mlt_df.columns"
   ]
  },
  {
   "cell_type": "code",
   "execution_count": 71,
   "metadata": {
    "ExecuteTime": {
     "end_time": "2023-08-01T22:40:18.660456300Z",
     "start_time": "2023-08-01T22:40:14.896342900Z"
    }
   },
   "outputs": [
    {
     "data": {
      "text/plain": "income                        <=50K      >50K\nrace               sex                       \nAmer-Indian-Eskimo Female  0.001764  0.002395\n                   Male    0.002046  0.001954\nAsian-Pac-Islander Female  0.002398  0.002305\n                   Male    0.002652  0.002762\nBlack              Female  0.003454  0.003331\n                   Male    0.003922  0.003971\nOther              Female  0.002803  0.002593\n                   Male    0.003478  0.003310\nWhite              Female  0.002969  0.002978\n                   Male    0.003074  0.003025",
      "text/html": "<div>\n<style scoped>\n    .dataframe tbody tr th:only-of-type {\n        vertical-align: middle;\n    }\n\n    .dataframe tbody tr th {\n        vertical-align: top;\n    }\n\n    .dataframe thead th {\n        text-align: right;\n    }\n</style>\n<table border=\"1\" class=\"dataframe\">\n  <thead>\n    <tr style=\"text-align: right;\">\n      <th></th>\n      <th>income</th>\n      <th>&lt;=50K</th>\n      <th>&gt;50K</th>\n    </tr>\n    <tr>\n      <th>race</th>\n      <th>sex</th>\n      <th></th>\n      <th></th>\n    </tr>\n  </thead>\n  <tbody>\n    <tr>\n      <th rowspan=\"2\" valign=\"top\">Amer-Indian-Eskimo</th>\n      <th>Female</th>\n      <td>0.001764</td>\n      <td>0.002395</td>\n    </tr>\n    <tr>\n      <th>Male</th>\n      <td>0.002046</td>\n      <td>0.001954</td>\n    </tr>\n    <tr>\n      <th rowspan=\"2\" valign=\"top\">Asian-Pac-Islander</th>\n      <th>Female</th>\n      <td>0.002398</td>\n      <td>0.002305</td>\n    </tr>\n    <tr>\n      <th>Male</th>\n      <td>0.002652</td>\n      <td>0.002762</td>\n    </tr>\n    <tr>\n      <th rowspan=\"2\" valign=\"top\">Black</th>\n      <th>Female</th>\n      <td>0.003454</td>\n      <td>0.003331</td>\n    </tr>\n    <tr>\n      <th>Male</th>\n      <td>0.003922</td>\n      <td>0.003971</td>\n    </tr>\n    <tr>\n      <th rowspan=\"2\" valign=\"top\">Other</th>\n      <th>Female</th>\n      <td>0.002803</td>\n      <td>0.002593</td>\n    </tr>\n    <tr>\n      <th>Male</th>\n      <td>0.003478</td>\n      <td>0.003310</td>\n    </tr>\n    <tr>\n      <th rowspan=\"2\" valign=\"top\">White</th>\n      <th>Female</th>\n      <td>0.002969</td>\n      <td>0.002978</td>\n    </tr>\n    <tr>\n      <th>Male</th>\n      <td>0.003074</td>\n      <td>0.003025</td>\n    </tr>\n  </tbody>\n</table>\n</div>"
     },
     "execution_count": 71,
     "metadata": {},
     "output_type": "execute_result"
    }
   ],
   "source": [
    "mlt_df.stack()"
   ]
  },
  {
   "cell_type": "code",
   "execution_count": 72,
   "metadata": {
    "ExecuteTime": {
     "end_time": "2023-08-01T22:40:18.663453400Z",
     "start_time": "2023-08-01T22:40:14.897342900Z"
    }
   },
   "outputs": [
    {
     "data": {
      "text/plain": "race                sex     income\nAmer-Indian-Eskimo  Female  <=50K     0.001764\n                            >50K      0.002395\n                    Male    <=50K     0.002046\n                            >50K      0.001954\nAsian-Pac-Islander  Female  <=50K     0.002398\n                            >50K      0.002305\n                    Male    <=50K     0.002652\n                            >50K      0.002762\nBlack               Female  <=50K     0.003454\n                            >50K      0.003331\n                    Male    <=50K     0.003922\n                            >50K      0.003971\nOther               Female  <=50K     0.002803\n                            >50K      0.002593\n                    Male    <=50K     0.003478\n                            >50K      0.003310\nWhite               Female  <=50K     0.002969\n                            >50K      0.002978\n                    Male    <=50K     0.003074\n                            >50K      0.003025\ndtype: float64"
     },
     "execution_count": 72,
     "metadata": {},
     "output_type": "execute_result"
    }
   ],
   "source": [
    "mlt_df.stack().stack()"
   ]
  },
  {
   "cell_type": "markdown",
   "metadata": {},
   "source": [
    "# Pivot & Melt"
   ]
  },
  {
   "cell_type": "code",
   "execution_count": 73,
   "metadata": {
    "ExecuteTime": {
     "end_time": "2023-08-01T22:40:18.836361100Z",
     "start_time": "2023-08-01T22:40:14.992287700Z"
    }
   },
   "outputs": [
    {
     "data": {
      "text/plain": "    ReadingDateTime   NO   NO2   NOX  PM10  PM2.5\n0  01/01/2017 00:00  3.5  30.8  36.2  35.7   31.0\n1  01/01/2017 01:00  3.6  31.5  37.0  28.5   31.0\n2  01/01/2017 02:00  2.2  27.3  30.7  22.7   31.0",
      "text/html": "<div>\n<style scoped>\n    .dataframe tbody tr th:only-of-type {\n        vertical-align: middle;\n    }\n\n    .dataframe tbody tr th {\n        vertical-align: top;\n    }\n\n    .dataframe thead th {\n        text-align: right;\n    }\n</style>\n<table border=\"1\" class=\"dataframe\">\n  <thead>\n    <tr style=\"text-align: right;\">\n      <th></th>\n      <th>ReadingDateTime</th>\n      <th>NO</th>\n      <th>NO2</th>\n      <th>NOX</th>\n      <th>PM10</th>\n      <th>PM2.5</th>\n    </tr>\n  </thead>\n  <tbody>\n    <tr>\n      <th>0</th>\n      <td>01/01/2017 00:00</td>\n      <td>3.5</td>\n      <td>30.8</td>\n      <td>36.2</td>\n      <td>35.7</td>\n      <td>31.0</td>\n    </tr>\n    <tr>\n      <th>1</th>\n      <td>01/01/2017 01:00</td>\n      <td>3.6</td>\n      <td>31.5</td>\n      <td>37.0</td>\n      <td>28.5</td>\n      <td>31.0</td>\n    </tr>\n    <tr>\n      <th>2</th>\n      <td>01/01/2017 02:00</td>\n      <td>2.2</td>\n      <td>27.3</td>\n      <td>30.7</td>\n      <td>22.7</td>\n      <td>31.0</td>\n    </tr>\n  </tbody>\n</table>\n</div>"
     },
     "execution_count": 73,
     "metadata": {},
     "output_type": "execute_result"
    }
   ],
   "source": [
    "wide_df = pd.read_csv('wide.csv')\n",
    "wide_df"
   ]
  },
  {
   "cell_type": "code",
   "execution_count": 74,
   "metadata": {
    "ExecuteTime": {
     "end_time": "2023-08-01T22:40:18.974275500Z",
     "start_time": "2023-08-01T22:40:15.049541800Z"
    }
   },
   "outputs": [
    {
     "data": {
      "text/plain": "     ReadingDateTime Species  Value\n0   01/01/2017 00:00      NO    3.5\n1   01/01/2017 01:00      NO    3.6\n2   01/01/2017 02:00      NO    2.2\n3   01/01/2017 00:00     NO2   30.8\n4   01/01/2017 01:00     NO2   31.5\n5   01/01/2017 02:00     NO2   27.3\n6   01/01/2017 00:00     NOX   36.2\n7   01/01/2017 01:00     NOX   37.0\n8   01/01/2017 02:00     NOX   30.7\n9   01/01/2017 00:00    PM10   35.7\n10  01/01/2017 01:00    PM10   28.5\n11  01/01/2017 02:00    PM10   22.7\n12  01/01/2017 00:00   PM2.5   31.0\n13  01/01/2017 01:00   PM2.5   31.0\n14  01/01/2017 02:00   PM2.5   31.0",
      "text/html": "<div>\n<style scoped>\n    .dataframe tbody tr th:only-of-type {\n        vertical-align: middle;\n    }\n\n    .dataframe tbody tr th {\n        vertical-align: top;\n    }\n\n    .dataframe thead th {\n        text-align: right;\n    }\n</style>\n<table border=\"1\" class=\"dataframe\">\n  <thead>\n    <tr style=\"text-align: right;\">\n      <th></th>\n      <th>ReadingDateTime</th>\n      <th>Species</th>\n      <th>Value</th>\n    </tr>\n  </thead>\n  <tbody>\n    <tr>\n      <th>0</th>\n      <td>01/01/2017 00:00</td>\n      <td>NO</td>\n      <td>3.5</td>\n    </tr>\n    <tr>\n      <th>1</th>\n      <td>01/01/2017 01:00</td>\n      <td>NO</td>\n      <td>3.6</td>\n    </tr>\n    <tr>\n      <th>2</th>\n      <td>01/01/2017 02:00</td>\n      <td>NO</td>\n      <td>2.2</td>\n    </tr>\n    <tr>\n      <th>3</th>\n      <td>01/01/2017 00:00</td>\n      <td>NO2</td>\n      <td>30.8</td>\n    </tr>\n    <tr>\n      <th>4</th>\n      <td>01/01/2017 01:00</td>\n      <td>NO2</td>\n      <td>31.5</td>\n    </tr>\n    <tr>\n      <th>5</th>\n      <td>01/01/2017 02:00</td>\n      <td>NO2</td>\n      <td>27.3</td>\n    </tr>\n    <tr>\n      <th>6</th>\n      <td>01/01/2017 00:00</td>\n      <td>NOX</td>\n      <td>36.2</td>\n    </tr>\n    <tr>\n      <th>7</th>\n      <td>01/01/2017 01:00</td>\n      <td>NOX</td>\n      <td>37.0</td>\n    </tr>\n    <tr>\n      <th>8</th>\n      <td>01/01/2017 02:00</td>\n      <td>NOX</td>\n      <td>30.7</td>\n    </tr>\n    <tr>\n      <th>9</th>\n      <td>01/01/2017 00:00</td>\n      <td>PM10</td>\n      <td>35.7</td>\n    </tr>\n    <tr>\n      <th>10</th>\n      <td>01/01/2017 01:00</td>\n      <td>PM10</td>\n      <td>28.5</td>\n    </tr>\n    <tr>\n      <th>11</th>\n      <td>01/01/2017 02:00</td>\n      <td>PM10</td>\n      <td>22.7</td>\n    </tr>\n    <tr>\n      <th>12</th>\n      <td>01/01/2017 00:00</td>\n      <td>PM2.5</td>\n      <td>31.0</td>\n    </tr>\n    <tr>\n      <th>13</th>\n      <td>01/01/2017 01:00</td>\n      <td>PM2.5</td>\n      <td>31.0</td>\n    </tr>\n    <tr>\n      <th>14</th>\n      <td>01/01/2017 02:00</td>\n      <td>PM2.5</td>\n      <td>31.0</td>\n    </tr>\n  </tbody>\n</table>\n</div>"
     },
     "execution_count": 74,
     "metadata": {},
     "output_type": "execute_result"
    }
   ],
   "source": [
    "wide_df.melt(id_vars='ReadingDateTime',\n",
    "             value_vars=['NO','NO2','NOX','PM10','PM2.5'],\n",
    "             var_name='Species',\n",
    "             value_name='Value')"
   ]
  },
  {
   "cell_type": "code",
   "execution_count": 75,
   "metadata": {
    "ExecuteTime": {
     "end_time": "2023-08-01T22:40:19.087211200Z",
     "start_time": "2023-08-01T22:40:15.079041500Z"
    }
   },
   "outputs": [
    {
     "data": {
      "text/plain": "     ReadingDateTime Species  Value\n0   01/01/2017 00:00      NO    3.5\n1   01/01/2017 01:00      NO    3.6\n2   01/01/2017 02:00      NO    2.2\n3   01/01/2017 00:00     NO2   30.8\n4   01/01/2017 01:00     NO2   31.5\n5   01/01/2017 02:00     NO2   27.3\n6   01/01/2017 00:00     NOX   36.2\n7   01/01/2017 01:00     NOX   37.0\n8   01/01/2017 02:00     NOX   30.7\n9   01/01/2017 00:00    PM10   35.7\n10  01/01/2017 01:00    PM10   28.5\n11  01/01/2017 02:00    PM10   22.7\n12  01/01/2017 00:00   PM2.5   31.0\n13  01/01/2017 01:00   PM2.5   31.0\n14  01/01/2017 02:00   PM2.5   31.0",
      "text/html": "<div>\n<style scoped>\n    .dataframe tbody tr th:only-of-type {\n        vertical-align: middle;\n    }\n\n    .dataframe tbody tr th {\n        vertical-align: top;\n    }\n\n    .dataframe thead th {\n        text-align: right;\n    }\n</style>\n<table border=\"1\" class=\"dataframe\">\n  <thead>\n    <tr style=\"text-align: right;\">\n      <th></th>\n      <th>ReadingDateTime</th>\n      <th>Species</th>\n      <th>Value</th>\n    </tr>\n  </thead>\n  <tbody>\n    <tr>\n      <th>0</th>\n      <td>01/01/2017 00:00</td>\n      <td>NO</td>\n      <td>3.5</td>\n    </tr>\n    <tr>\n      <th>1</th>\n      <td>01/01/2017 01:00</td>\n      <td>NO</td>\n      <td>3.6</td>\n    </tr>\n    <tr>\n      <th>2</th>\n      <td>01/01/2017 02:00</td>\n      <td>NO</td>\n      <td>2.2</td>\n    </tr>\n    <tr>\n      <th>3</th>\n      <td>01/01/2017 00:00</td>\n      <td>NO2</td>\n      <td>30.8</td>\n    </tr>\n    <tr>\n      <th>4</th>\n      <td>01/01/2017 01:00</td>\n      <td>NO2</td>\n      <td>31.5</td>\n    </tr>\n    <tr>\n      <th>5</th>\n      <td>01/01/2017 02:00</td>\n      <td>NO2</td>\n      <td>27.3</td>\n    </tr>\n    <tr>\n      <th>6</th>\n      <td>01/01/2017 00:00</td>\n      <td>NOX</td>\n      <td>36.2</td>\n    </tr>\n    <tr>\n      <th>7</th>\n      <td>01/01/2017 01:00</td>\n      <td>NOX</td>\n      <td>37.0</td>\n    </tr>\n    <tr>\n      <th>8</th>\n      <td>01/01/2017 02:00</td>\n      <td>NOX</td>\n      <td>30.7</td>\n    </tr>\n    <tr>\n      <th>9</th>\n      <td>01/01/2017 00:00</td>\n      <td>PM10</td>\n      <td>35.7</td>\n    </tr>\n    <tr>\n      <th>10</th>\n      <td>01/01/2017 01:00</td>\n      <td>PM10</td>\n      <td>28.5</td>\n    </tr>\n    <tr>\n      <th>11</th>\n      <td>01/01/2017 02:00</td>\n      <td>PM10</td>\n      <td>22.7</td>\n    </tr>\n    <tr>\n      <th>12</th>\n      <td>01/01/2017 00:00</td>\n      <td>PM2.5</td>\n      <td>31.0</td>\n    </tr>\n    <tr>\n      <th>13</th>\n      <td>01/01/2017 01:00</td>\n      <td>PM2.5</td>\n      <td>31.0</td>\n    </tr>\n    <tr>\n      <th>14</th>\n      <td>01/01/2017 02:00</td>\n      <td>PM2.5</td>\n      <td>31.0</td>\n    </tr>\n  </tbody>\n</table>\n</div>"
     },
     "execution_count": 75,
     "metadata": {},
     "output_type": "execute_result"
    }
   ],
   "source": [
    "long_df = pd.read_csv('long.csv')\n",
    "long_df"
   ]
  },
  {
   "cell_type": "code",
   "execution_count": 76,
   "metadata": {
    "ExecuteTime": {
     "end_time": "2023-08-01T22:40:19.201145100Z",
     "start_time": "2023-08-01T22:40:15.200485700Z"
    }
   },
   "outputs": [
    {
     "data": {
      "text/plain": "Species            NO   NO2   NOX  PM10  PM2.5\nReadingDateTime                               \n01/01/2017 00:00  3.5  30.8  36.2  35.7   31.0\n01/01/2017 01:00  3.6  31.5  37.0  28.5   31.0\n01/01/2017 02:00  2.2  27.3  30.7  22.7   31.0",
      "text/html": "<div>\n<style scoped>\n    .dataframe tbody tr th:only-of-type {\n        vertical-align: middle;\n    }\n\n    .dataframe tbody tr th {\n        vertical-align: top;\n    }\n\n    .dataframe thead th {\n        text-align: right;\n    }\n</style>\n<table border=\"1\" class=\"dataframe\">\n  <thead>\n    <tr style=\"text-align: right;\">\n      <th>Species</th>\n      <th>NO</th>\n      <th>NO2</th>\n      <th>NOX</th>\n      <th>PM10</th>\n      <th>PM2.5</th>\n    </tr>\n    <tr>\n      <th>ReadingDateTime</th>\n      <th></th>\n      <th></th>\n      <th></th>\n      <th></th>\n      <th></th>\n    </tr>\n  </thead>\n  <tbody>\n    <tr>\n      <th>01/01/2017 00:00</th>\n      <td>3.5</td>\n      <td>30.8</td>\n      <td>36.2</td>\n      <td>35.7</td>\n      <td>31.0</td>\n    </tr>\n    <tr>\n      <th>01/01/2017 01:00</th>\n      <td>3.6</td>\n      <td>31.5</td>\n      <td>37.0</td>\n      <td>28.5</td>\n      <td>31.0</td>\n    </tr>\n    <tr>\n      <th>01/01/2017 02:00</th>\n      <td>2.2</td>\n      <td>27.3</td>\n      <td>30.7</td>\n      <td>22.7</td>\n      <td>31.0</td>\n    </tr>\n  </tbody>\n</table>\n</div>"
     },
     "execution_count": 76,
     "metadata": {},
     "output_type": "execute_result"
    }
   ],
   "source": [
    "long_df.pivot(index='ReadingDateTime',\n",
    "              columns='Species',\n",
    "              values='Value')"
   ]
  }
 ],
 "metadata": {
  "kernelspec": {
   "display_name": "Python 3",
   "language": "python",
   "name": "python3"
  },
  "language_info": {
   "codemirror_mode": {
    "name": "ipython",
    "version": 3
   },
   "file_extension": ".py",
   "mimetype": "text/x-python",
   "name": "python",
   "nbconvert_exporter": "python",
   "pygments_lexer": "ipython3",
   "version": "3.8.3"
  }
 },
 "nbformat": 4,
 "nbformat_minor": 4
}
