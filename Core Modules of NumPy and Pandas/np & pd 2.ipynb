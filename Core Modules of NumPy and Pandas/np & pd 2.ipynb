{
 "cells": [
  {
   "cell_type": "markdown",
   "metadata": {},
   "source": [
    "# Data Preprocessing in Python\n",
    "Effectively prepare data for successful data analytics\n",
    "\n",
    "### The core modules NumPy, Pandas, and Matplotlib"
   ]
  },
  {
   "cell_type": "markdown",
   "metadata": {},
   "source": [
    "Use the adult.csv dataset."
   ]
  },
  {
   "cell_type": "code",
   "execution_count": 1,
   "metadata": {
    "ExecuteTime": {
     "end_time": "2023-08-01T22:51:43.401833300Z",
     "start_time": "2023-08-01T22:51:37.955566900Z"
    }
   },
   "outputs": [
    {
     "name": "stdout",
     "output_type": "stream",
     "text": [
      "       age workclass\n",
      "10005   37   Private\n",
      "10006   49   Private\n",
      "       age         workclass  fnlwgt\n",
      "10005   37           Private  284582\n",
      "10006   49           Private  160187\n",
      "10007   52  Self-emp-not-inc  209642\n"
     ]
    }
   ],
   "source": [
    "import pandas as pd\n",
    "import numpy as np\n",
    "adult_df = pd.read_csv('adult.csv')\n",
    "adult_df.set_index(np.arange(10000,42561),inplace=True)\n",
    "\n",
    "print(adult_df.iloc[5:7,0:2])\n",
    "\n",
    "print(adult_df.loc['10005':'10007','age':'fnlwgt'])"
   ]
  },
  {
   "cell_type": "markdown",
   "metadata": {},
   "source": [
    "For adult_df use the .groupby() function and create the multi-index Series mlt_sr."
   ]
  },
  {
   "cell_type": "code",
   "execution_count": 2,
   "metadata": {
    "ExecuteTime": {
     "end_time": "2023-08-01T22:51:43.839549200Z",
     "start_time": "2023-08-01T22:51:43.376847700Z"
    }
   },
   "outputs": [
    {
     "data": {
      "text/plain": "race                sex     income\nAmer-Indian-Eskimo  Female  <=50K     109018.626168\n                            >50K      148012.000000\n                    Male    <=50K     126428.767857\n                            >50K      120721.541667\nAsian-Pac-Islander  Female  <=50K     148165.333333\n                            >50K      142426.093023\n                    Male    <=50K     163885.130435\n                            >50K      170698.347639\nBlack               Female  <=50K     213411.580205\n                            >50K      205806.033333\n                    Male    <=50K     242343.990566\n                            >50K      245390.356902\nOther               Female  <=50K     173235.932039\n                            >50K      160223.333333\n                    Male    <=50K     214891.832168\n                            >50K      204551.736842\nWhite               Female  <=50K     183485.120961\n                            >50K      184030.255837\n                    Male    <=50K     189950.465418\n                            >50K      186917.770077\nName: fnlwgt, dtype: float64"
     },
     "execution_count": 2,
     "metadata": {},
     "output_type": "execute_result"
    }
   ],
   "source": [
    "import pandas as pd\n",
    "\n",
    "adult_df = pd.read_csv('adult.csv')\n",
    "mlt_seris =adult_df.groupby(['race','sex','income']).fnlwgt.mean()\n",
    "mlt_seris"
   ]
  },
  {
   "cell_type": "code",
   "execution_count": 3,
   "metadata": {
    "ExecuteTime": {
     "end_time": "2023-08-01T22:51:43.929464700Z",
     "start_time": "2023-08-01T22:51:43.815144200Z"
    }
   },
   "outputs": [
    {
     "name": "stdout",
     "output_type": "stream",
     "text": [
      "109018.6261682243\n",
      "148012.0\n",
      "126428.76785714286\n"
     ]
    }
   ],
   "source": [
    "print(mlt_seris.iloc[0])\n",
    "print(mlt_seris.iloc[1])\n",
    "print(mlt_seris.iloc[2])"
   ]
  },
  {
   "cell_type": "code",
   "execution_count": 4,
   "metadata": {
    "ExecuteTime": {
     "end_time": "2023-08-01T22:51:43.999424500Z",
     "start_time": "2023-08-01T22:51:43.856523800Z"
    }
   },
   "outputs": [
    {
     "data": {
      "text/plain": "sex     income\nFemale  <=50K     173235.932039\n        >50K      160223.333333\nMale    <=50K     214891.832168\n        >50K      204551.736842\nName: fnlwgt, dtype: float64"
     },
     "execution_count": 4,
     "metadata": {},
     "output_type": "execute_result"
    }
   ],
   "source": [
    "mlt_seris.loc['Other']"
   ]
  },
  {
   "cell_type": "code",
   "execution_count": 6,
   "metadata": {
    "ExecuteTime": {
     "end_time": "2023-08-01T22:54:21.250438200Z",
     "start_time": "2023-08-01T22:54:13.499331400Z"
    }
   },
   "outputs": [
    {
     "ename": "KeyError",
     "evalue": "'Female'",
     "output_type": "error",
     "traceback": [
      "\u001B[1;31m---------------------------------------------------------------------------\u001B[0m",
      "\u001B[1;31mKeyError\u001B[0m                                  Traceback (most recent call last)",
      "File \u001B[1;32m~\\anaconda3\\Lib\\site-packages\\pandas\\core\\indexes\\base.py:3802\u001B[0m, in \u001B[0;36mIndex.get_loc\u001B[1;34m(self, key, method, tolerance)\u001B[0m\n\u001B[0;32m   3801\u001B[0m \u001B[38;5;28;01mtry\u001B[39;00m:\n\u001B[1;32m-> 3802\u001B[0m     \u001B[38;5;28;01mreturn\u001B[39;00m \u001B[38;5;28mself\u001B[39m\u001B[38;5;241m.\u001B[39m_engine\u001B[38;5;241m.\u001B[39mget_loc(casted_key)\n\u001B[0;32m   3803\u001B[0m \u001B[38;5;28;01mexcept\u001B[39;00m \u001B[38;5;167;01mKeyError\u001B[39;00m \u001B[38;5;28;01mas\u001B[39;00m err:\n",
      "File \u001B[1;32m~\\anaconda3\\Lib\\site-packages\\pandas\\_libs\\index.pyx:138\u001B[0m, in \u001B[0;36mpandas._libs.index.IndexEngine.get_loc\u001B[1;34m()\u001B[0m\n",
      "File \u001B[1;32m~\\anaconda3\\Lib\\site-packages\\pandas\\_libs\\index.pyx:165\u001B[0m, in \u001B[0;36mpandas._libs.index.IndexEngine.get_loc\u001B[1;34m()\u001B[0m\n",
      "File \u001B[1;32mpandas\\_libs\\hashtable_class_helper.pxi:5745\u001B[0m, in \u001B[0;36mpandas._libs.hashtable.PyObjectHashTable.get_item\u001B[1;34m()\u001B[0m\n",
      "File \u001B[1;32mpandas\\_libs\\hashtable_class_helper.pxi:5753\u001B[0m, in \u001B[0;36mpandas._libs.hashtable.PyObjectHashTable.get_item\u001B[1;34m()\u001B[0m\n",
      "\u001B[1;31mKeyError\u001B[0m: 'Female'",
      "\nThe above exception was the direct cause of the following exception:\n",
      "\u001B[1;31mKeyError\u001B[0m                                  Traceback (most recent call last)",
      "Cell \u001B[1;32mIn[6], line 1\u001B[0m\n\u001B[1;32m----> 1\u001B[0m mlt_seris\u001B[38;5;241m.\u001B[39mloc[\u001B[38;5;124m'\u001B[39m\u001B[38;5;124mFemale\u001B[39m\u001B[38;5;124m'\u001B[39m]\n",
      "File \u001B[1;32m~\\anaconda3\\Lib\\site-packages\\pandas\\core\\indexing.py:1073\u001B[0m, in \u001B[0;36m_LocationIndexer.__getitem__\u001B[1;34m(self, key)\u001B[0m\n\u001B[0;32m   1070\u001B[0m axis \u001B[38;5;241m=\u001B[39m \u001B[38;5;28mself\u001B[39m\u001B[38;5;241m.\u001B[39maxis \u001B[38;5;129;01mor\u001B[39;00m \u001B[38;5;241m0\u001B[39m\n\u001B[0;32m   1072\u001B[0m maybe_callable \u001B[38;5;241m=\u001B[39m com\u001B[38;5;241m.\u001B[39mapply_if_callable(key, \u001B[38;5;28mself\u001B[39m\u001B[38;5;241m.\u001B[39mobj)\n\u001B[1;32m-> 1073\u001B[0m \u001B[38;5;28;01mreturn\u001B[39;00m \u001B[38;5;28mself\u001B[39m\u001B[38;5;241m.\u001B[39m_getitem_axis(maybe_callable, axis\u001B[38;5;241m=\u001B[39maxis)\n",
      "File \u001B[1;32m~\\anaconda3\\Lib\\site-packages\\pandas\\core\\indexing.py:1312\u001B[0m, in \u001B[0;36m_LocIndexer._getitem_axis\u001B[1;34m(self, key, axis)\u001B[0m\n\u001B[0;32m   1310\u001B[0m \u001B[38;5;66;03m# fall thru to straight lookup\u001B[39;00m\n\u001B[0;32m   1311\u001B[0m \u001B[38;5;28mself\u001B[39m\u001B[38;5;241m.\u001B[39m_validate_key(key, axis)\n\u001B[1;32m-> 1312\u001B[0m \u001B[38;5;28;01mreturn\u001B[39;00m \u001B[38;5;28mself\u001B[39m\u001B[38;5;241m.\u001B[39m_get_label(key, axis\u001B[38;5;241m=\u001B[39maxis)\n",
      "File \u001B[1;32m~\\anaconda3\\Lib\\site-packages\\pandas\\core\\indexing.py:1260\u001B[0m, in \u001B[0;36m_LocIndexer._get_label\u001B[1;34m(self, label, axis)\u001B[0m\n\u001B[0;32m   1258\u001B[0m \u001B[38;5;28;01mdef\u001B[39;00m \u001B[38;5;21m_get_label\u001B[39m(\u001B[38;5;28mself\u001B[39m, label, axis: \u001B[38;5;28mint\u001B[39m):\n\u001B[0;32m   1259\u001B[0m     \u001B[38;5;66;03m# GH#5567 this will fail if the label is not present in the axis.\u001B[39;00m\n\u001B[1;32m-> 1260\u001B[0m     \u001B[38;5;28;01mreturn\u001B[39;00m \u001B[38;5;28mself\u001B[39m\u001B[38;5;241m.\u001B[39mobj\u001B[38;5;241m.\u001B[39mxs(label, axis\u001B[38;5;241m=\u001B[39maxis)\n",
      "File \u001B[1;32m~\\anaconda3\\Lib\\site-packages\\pandas\\core\\generic.py:4049\u001B[0m, in \u001B[0;36mNDFrame.xs\u001B[1;34m(self, key, axis, level, drop_level)\u001B[0m\n\u001B[0;32m   4046\u001B[0m \u001B[38;5;28mself\u001B[39m\u001B[38;5;241m.\u001B[39m_consolidate_inplace()\n\u001B[0;32m   4048\u001B[0m \u001B[38;5;28;01mif\u001B[39;00m \u001B[38;5;28misinstance\u001B[39m(index, MultiIndex):\n\u001B[1;32m-> 4049\u001B[0m     loc, new_index \u001B[38;5;241m=\u001B[39m index\u001B[38;5;241m.\u001B[39m_get_loc_level(key, level\u001B[38;5;241m=\u001B[39m\u001B[38;5;241m0\u001B[39m)\n\u001B[0;32m   4050\u001B[0m     \u001B[38;5;28;01mif\u001B[39;00m \u001B[38;5;129;01mnot\u001B[39;00m drop_level:\n\u001B[0;32m   4051\u001B[0m         \u001B[38;5;28;01mif\u001B[39;00m lib\u001B[38;5;241m.\u001B[39mis_integer(loc):\n",
      "File \u001B[1;32m~\\anaconda3\\Lib\\site-packages\\pandas\\core\\indexes\\multi.py:3160\u001B[0m, in \u001B[0;36mMultiIndex._get_loc_level\u001B[1;34m(self, key, level)\u001B[0m\n\u001B[0;32m   3158\u001B[0m         \u001B[38;5;28;01mreturn\u001B[39;00m indexer, maybe_mi_droplevels(indexer, ilevels)\n\u001B[0;32m   3159\u001B[0m \u001B[38;5;28;01melse\u001B[39;00m:\n\u001B[1;32m-> 3160\u001B[0m     indexer \u001B[38;5;241m=\u001B[39m \u001B[38;5;28mself\u001B[39m\u001B[38;5;241m.\u001B[39m_get_level_indexer(key, level\u001B[38;5;241m=\u001B[39mlevel)\n\u001B[0;32m   3161\u001B[0m     \u001B[38;5;28;01mif\u001B[39;00m (\n\u001B[0;32m   3162\u001B[0m         \u001B[38;5;28misinstance\u001B[39m(key, \u001B[38;5;28mstr\u001B[39m)\n\u001B[0;32m   3163\u001B[0m         \u001B[38;5;129;01mand\u001B[39;00m \u001B[38;5;28mself\u001B[39m\u001B[38;5;241m.\u001B[39mlevels[level]\u001B[38;5;241m.\u001B[39m_supports_partial_string_indexing\n\u001B[0;32m   3164\u001B[0m     ):\n\u001B[0;32m   3165\u001B[0m         \u001B[38;5;66;03m# check to see if we did an exact lookup vs sliced\u001B[39;00m\n\u001B[0;32m   3166\u001B[0m         check \u001B[38;5;241m=\u001B[39m \u001B[38;5;28mself\u001B[39m\u001B[38;5;241m.\u001B[39mlevels[level]\u001B[38;5;241m.\u001B[39mget_loc(key)\n",
      "File \u001B[1;32m~\\anaconda3\\Lib\\site-packages\\pandas\\core\\indexes\\multi.py:3263\u001B[0m, in \u001B[0;36mMultiIndex._get_level_indexer\u001B[1;34m(self, key, level, indexer)\u001B[0m\n\u001B[0;32m   3259\u001B[0m         \u001B[38;5;28;01mreturn\u001B[39;00m \u001B[38;5;28mslice\u001B[39m(i, j, step)\n\u001B[0;32m   3261\u001B[0m \u001B[38;5;28;01melse\u001B[39;00m:\n\u001B[1;32m-> 3263\u001B[0m     idx \u001B[38;5;241m=\u001B[39m \u001B[38;5;28mself\u001B[39m\u001B[38;5;241m.\u001B[39m_get_loc_single_level_index(level_index, key)\n\u001B[0;32m   3265\u001B[0m     \u001B[38;5;28;01mif\u001B[39;00m level \u001B[38;5;241m>\u001B[39m \u001B[38;5;241m0\u001B[39m \u001B[38;5;129;01mor\u001B[39;00m \u001B[38;5;28mself\u001B[39m\u001B[38;5;241m.\u001B[39m_lexsort_depth \u001B[38;5;241m==\u001B[39m \u001B[38;5;241m0\u001B[39m:\n\u001B[0;32m   3266\u001B[0m         \u001B[38;5;66;03m# Desired level is not sorted\u001B[39;00m\n\u001B[0;32m   3267\u001B[0m         \u001B[38;5;28;01mif\u001B[39;00m \u001B[38;5;28misinstance\u001B[39m(idx, \u001B[38;5;28mslice\u001B[39m):\n\u001B[0;32m   3268\u001B[0m             \u001B[38;5;66;03m# test_get_loc_partial_timestamp_multiindex\u001B[39;00m\n",
      "File \u001B[1;32m~\\anaconda3\\Lib\\site-packages\\pandas\\core\\indexes\\multi.py:2849\u001B[0m, in \u001B[0;36mMultiIndex._get_loc_single_level_index\u001B[1;34m(self, level_index, key)\u001B[0m\n\u001B[0;32m   2847\u001B[0m     \u001B[38;5;28;01mreturn\u001B[39;00m \u001B[38;5;241m-\u001B[39m\u001B[38;5;241m1\u001B[39m\n\u001B[0;32m   2848\u001B[0m \u001B[38;5;28;01melse\u001B[39;00m:\n\u001B[1;32m-> 2849\u001B[0m     \u001B[38;5;28;01mreturn\u001B[39;00m level_index\u001B[38;5;241m.\u001B[39mget_loc(key)\n",
      "File \u001B[1;32m~\\anaconda3\\Lib\\site-packages\\pandas\\core\\indexes\\base.py:3804\u001B[0m, in \u001B[0;36mIndex.get_loc\u001B[1;34m(self, key, method, tolerance)\u001B[0m\n\u001B[0;32m   3802\u001B[0m     \u001B[38;5;28;01mreturn\u001B[39;00m \u001B[38;5;28mself\u001B[39m\u001B[38;5;241m.\u001B[39m_engine\u001B[38;5;241m.\u001B[39mget_loc(casted_key)\n\u001B[0;32m   3803\u001B[0m \u001B[38;5;28;01mexcept\u001B[39;00m \u001B[38;5;167;01mKeyError\u001B[39;00m \u001B[38;5;28;01mas\u001B[39;00m err:\n\u001B[1;32m-> 3804\u001B[0m     \u001B[38;5;28;01mraise\u001B[39;00m \u001B[38;5;167;01mKeyError\u001B[39;00m(key) \u001B[38;5;28;01mfrom\u001B[39;00m \u001B[38;5;21;01merr\u001B[39;00m\n\u001B[0;32m   3805\u001B[0m \u001B[38;5;28;01mexcept\u001B[39;00m \u001B[38;5;167;01mTypeError\u001B[39;00m:\n\u001B[0;32m   3806\u001B[0m     \u001B[38;5;66;03m# If we have a listlike key, _check_indexing_error will raise\u001B[39;00m\n\u001B[0;32m   3807\u001B[0m     \u001B[38;5;66;03m#  InvalidIndexError. Otherwise we fall through and re-raise\u001B[39;00m\n\u001B[0;32m   3808\u001B[0m     \u001B[38;5;66;03m#  the TypeError.\u001B[39;00m\n\u001B[0;32m   3809\u001B[0m     \u001B[38;5;28mself\u001B[39m\u001B[38;5;241m.\u001B[39m_check_indexing_error(key)\n",
      "\u001B[1;31mKeyError\u001B[0m: 'Female'"
     ]
    }
   ],
   "source": [
    "mlt_seris.loc['Female']"
   ]
  },
  {
   "cell_type": "code",
   "execution_count": null,
   "metadata": {
    "ExecuteTime": {
     "end_time": "2023-08-01T22:54:21.258432800Z",
     "start_time": "2023-08-01T22:54:21.251438700Z"
    }
   },
   "outputs": [],
   "source": [
    "mlt_seris.loc['<=50K']"
   ]
  },
  {
   "cell_type": "code",
   "execution_count": null,
   "metadata": {
    "ExecuteTime": {
     "start_time": "2023-08-01T22:54:21.251438700Z"
    }
   },
   "outputs": [],
   "source": [
    "print(mlt_seris.loc['Other']['Female']['<=50K'])\n",
    "print(mlt_seris.iloc[12])"
   ]
  },
  {
   "cell_type": "markdown",
   "metadata": {},
   "source": [
    "use billboard.csv. Visit https://www.billboard.com/charts/hot-100 and see the latest song rankings of the day. This dataset presents information and ranking of 317 song tracks in 80 columns. The first four columns are artist, track, time, and date_e. The first columns are intuitive descriptions of song tracks. The column date_e shows the date that the songs entered the hot-100 list. The rest of 76 columns are songs ranking at the end of each weeks from 'w1' to 'w76'."
   ]
  },
  {
   "cell_type": "code",
   "execution_count": 7,
   "metadata": {
    "ExecuteTime": {
     "end_time": "2023-08-01T22:54:21.741702Z",
     "start_time": "2023-08-01T22:54:21.397541300Z"
    }
   },
   "outputs": [
    {
     "ename": "NameError",
     "evalue": "name 'mlt_df' is not defined",
     "output_type": "error",
     "traceback": [
      "\u001B[1;31m---------------------------------------------------------------------------\u001B[0m",
      "\u001B[1;31mNameError\u001B[0m                                 Traceback (most recent call last)",
      "Cell \u001B[1;32mIn[7], line 1\u001B[0m\n\u001B[1;32m----> 1\u001B[0m mlt_df\u001B[38;5;241m.\u001B[39mquery(\u001B[38;5;124m'\u001B[39m\u001B[38;5;124martist == \u001B[39m\u001B[38;5;124m\"\u001B[39m\u001B[38;5;124mSpears, Britney\u001B[39m\u001B[38;5;124m\"\u001B[39m\u001B[38;5;124m'\u001B[39m)\n",
      "\u001B[1;31mNameError\u001B[0m: name 'mlt_df' is not defined"
     ]
    }
   ],
   "source": [
    "mlt_df.query('artist == \"Spears, Britney\"')"
   ]
  },
  {
   "cell_type": "markdown",
   "metadata": {},
   "source": [
    "use LaqnData.csv for this exercise. Each row of this dataset shows an hourly measurement recording of one of the five following air pollutants: NO, NO2, NOX, PM10, and PM2.5. The data was collected in a location in Londan for the entirety of year 2017."
   ]
  },
  {
   "cell_type": "code",
   "execution_count": null,
   "metadata": {
    "ExecuteTime": {
     "start_time": "2023-08-01T22:54:21.477854200Z"
    }
   },
   "outputs": [],
   "source": [
    "import pandas as pd\n",
    "import matplotlib.pyplot as plt\n",
    "\n",
    "air_df = pd.read_csv('LaqnData.csv')\n",
    "air_df"
   ]
  },
  {
   "cell_type": "code",
   "execution_count": null,
   "metadata": {
    "ExecuteTime": {
     "start_time": "2023-08-01T22:54:21.487848500Z"
    }
   },
   "outputs": [],
   "source": [
    "air_df.drop(columns=['Site','Units','Provisional or Ratified'], inplace=True)"
   ]
  },
  {
   "cell_type": "code",
   "execution_count": 8,
   "metadata": {
    "ExecuteTime": {
     "end_time": "2023-08-01T22:54:30.405269500Z",
     "start_time": "2023-08-01T22:54:24.677111600Z"
    }
   },
   "outputs": [
    {
     "data": {
      "text/plain": "      Species  Value Day Month   Time\n0          NO    3.5  01    01  00:00\n1          NO    3.6  01    01  01:00\n2          NO    2.2  01    01  02:00\n3          NO    2.1  01    01  03:00\n4          NO    3.3  01    01  04:00\n...       ...    ...  ..   ...    ...\n43795   PM2.5   -2.0  31    12  19:00\n43796   PM2.5    6.0  31    12  20:00\n43797   PM2.5    5.0  31    12  21:00\n43798   PM2.5    5.0  31    12  22:00\n43799   PM2.5    6.0  31    12  23:00\n\n[43800 rows x 5 columns]",
      "text/html": "<div>\n<style scoped>\n    .dataframe tbody tr th:only-of-type {\n        vertical-align: middle;\n    }\n\n    .dataframe tbody tr th {\n        vertical-align: top;\n    }\n\n    .dataframe thead th {\n        text-align: right;\n    }\n</style>\n<table border=\"1\" class=\"dataframe\">\n  <thead>\n    <tr style=\"text-align: right;\">\n      <th></th>\n      <th>Species</th>\n      <th>Value</th>\n      <th>Day</th>\n      <th>Month</th>\n      <th>Time</th>\n    </tr>\n  </thead>\n  <tbody>\n    <tr>\n      <th>0</th>\n      <td>NO</td>\n      <td>3.5</td>\n      <td>01</td>\n      <td>01</td>\n      <td>00:00</td>\n    </tr>\n    <tr>\n      <th>1</th>\n      <td>NO</td>\n      <td>3.6</td>\n      <td>01</td>\n      <td>01</td>\n      <td>01:00</td>\n    </tr>\n    <tr>\n      <th>2</th>\n      <td>NO</td>\n      <td>2.2</td>\n      <td>01</td>\n      <td>01</td>\n      <td>02:00</td>\n    </tr>\n    <tr>\n      <th>3</th>\n      <td>NO</td>\n      <td>2.1</td>\n      <td>01</td>\n      <td>01</td>\n      <td>03:00</td>\n    </tr>\n    <tr>\n      <th>4</th>\n      <td>NO</td>\n      <td>3.3</td>\n      <td>01</td>\n      <td>01</td>\n      <td>04:00</td>\n    </tr>\n    <tr>\n      <th>...</th>\n      <td>...</td>\n      <td>...</td>\n      <td>...</td>\n      <td>...</td>\n      <td>...</td>\n    </tr>\n    <tr>\n      <th>43795</th>\n      <td>PM2.5</td>\n      <td>-2.0</td>\n      <td>31</td>\n      <td>12</td>\n      <td>19:00</td>\n    </tr>\n    <tr>\n      <th>43796</th>\n      <td>PM2.5</td>\n      <td>6.0</td>\n      <td>31</td>\n      <td>12</td>\n      <td>20:00</td>\n    </tr>\n    <tr>\n      <th>43797</th>\n      <td>PM2.5</td>\n      <td>5.0</td>\n      <td>31</td>\n      <td>12</td>\n      <td>21:00</td>\n    </tr>\n    <tr>\n      <th>43798</th>\n      <td>PM2.5</td>\n      <td>5.0</td>\n      <td>31</td>\n      <td>12</td>\n      <td>22:00</td>\n    </tr>\n    <tr>\n      <th>43799</th>\n      <td>PM2.5</td>\n      <td>6.0</td>\n      <td>31</td>\n      <td>12</td>\n      <td>23:00</td>\n    </tr>\n  </tbody>\n</table>\n<p>43800 rows × 5 columns</p>\n</div>"
     },
     "execution_count": 8,
     "metadata": {},
     "output_type": "execute_result"
    }
   ],
   "source": [
    "import pandas as pd\n",
    "air_df = pd.read_csv('LaqnData.csv')\n",
    "air_df.drop(columns=['Site','Units','Provisional or Ratified'], inplace=True)\n",
    "datetime_df = air_df.ReadingDateTime.str.split(' ',expand=True)\n",
    "datetime_df.columns = ['Date','Time']\n",
    "date_df = datetime_df.Date.str.split('/',expand=True)\n",
    "date_df.columns = ['Day','Month','Year']\n",
    "air_df = air_df.join(date_df).join(datetime_df.Time).drop(columns=['ReadingDateTime','Year'])\n",
    "air_df"
   ]
  },
  {
   "cell_type": "code",
   "execution_count": 9,
   "metadata": {
    "ExecuteTime": {
     "end_time": "2023-08-01T22:54:30.407268600Z",
     "start_time": "2023-08-01T22:54:30.335307800Z"
    }
   },
   "outputs": [
    {
     "data": {
      "text/plain": "                         Value\nMonth Day Time  Species       \n01    01  00:00 NO         3.5\n          01:00 NO         3.6\n          02:00 NO         2.2\n          03:00 NO         2.1\n          04:00 NO         3.3\n...                        ...\n12    31  19:00 PM2.5     -2.0\n          20:00 PM2.5      6.0\n          21:00 PM2.5      5.0\n          22:00 PM2.5      5.0\n          23:00 PM2.5      6.0\n\n[43800 rows x 1 columns]",
      "text/html": "<div>\n<style scoped>\n    .dataframe tbody tr th:only-of-type {\n        vertical-align: middle;\n    }\n\n    .dataframe tbody tr th {\n        vertical-align: top;\n    }\n\n    .dataframe thead th {\n        text-align: right;\n    }\n</style>\n<table border=\"1\" class=\"dataframe\">\n  <thead>\n    <tr style=\"text-align: right;\">\n      <th></th>\n      <th></th>\n      <th></th>\n      <th></th>\n      <th>Value</th>\n    </tr>\n    <tr>\n      <th>Month</th>\n      <th>Day</th>\n      <th>Time</th>\n      <th>Species</th>\n      <th></th>\n    </tr>\n  </thead>\n  <tbody>\n    <tr>\n      <th rowspan=\"5\" valign=\"top\">01</th>\n      <th rowspan=\"5\" valign=\"top\">01</th>\n      <th>00:00</th>\n      <th>NO</th>\n      <td>3.5</td>\n    </tr>\n    <tr>\n      <th>01:00</th>\n      <th>NO</th>\n      <td>3.6</td>\n    </tr>\n    <tr>\n      <th>02:00</th>\n      <th>NO</th>\n      <td>2.2</td>\n    </tr>\n    <tr>\n      <th>03:00</th>\n      <th>NO</th>\n      <td>2.1</td>\n    </tr>\n    <tr>\n      <th>04:00</th>\n      <th>NO</th>\n      <td>3.3</td>\n    </tr>\n    <tr>\n      <th>...</th>\n      <th>...</th>\n      <th>...</th>\n      <th>...</th>\n      <td>...</td>\n    </tr>\n    <tr>\n      <th rowspan=\"5\" valign=\"top\">12</th>\n      <th rowspan=\"5\" valign=\"top\">31</th>\n      <th>19:00</th>\n      <th>PM2.5</th>\n      <td>-2.0</td>\n    </tr>\n    <tr>\n      <th>20:00</th>\n      <th>PM2.5</th>\n      <td>6.0</td>\n    </tr>\n    <tr>\n      <th>21:00</th>\n      <th>PM2.5</th>\n      <td>5.0</td>\n    </tr>\n    <tr>\n      <th>22:00</th>\n      <th>PM2.5</th>\n      <td>5.0</td>\n    </tr>\n    <tr>\n      <th>23:00</th>\n      <th>PM2.5</th>\n      <td>6.0</td>\n    </tr>\n  </tbody>\n</table>\n<p>43800 rows × 1 columns</p>\n</div>"
     },
     "execution_count": 9,
     "metadata": {},
     "output_type": "execute_result"
    }
   ],
   "source": [
    "air_df = air_df.set_index(['Month','Day','Time','Species'])\n",
    "air_df\n"
   ]
  },
  {
   "cell_type": "code",
   "execution_count": 10,
   "metadata": {
    "ExecuteTime": {
     "end_time": "2023-08-01T22:54:30.566897900Z",
     "start_time": "2023-08-01T22:54:30.386278800Z"
    }
   },
   "outputs": [
    {
     "data": {
      "text/plain": "                Value                        \nSpecies            NO   NO2   NOX  PM10 PM2.5\nMonth Day Time                               \n01    01  00:00   3.5  30.8  36.2  35.7   NaN\n          01:00   3.6  31.5  37.0  28.5   NaN\n          02:00   2.2  27.3  30.7  22.7   NaN\n          03:00   2.1  23.5  26.8  20.5   NaN\n          04:00   3.3  28.0  33.0  22.1   NaN\n...               ...   ...   ...   ...   ...\n12    31  19:00   0.7  17.5  18.5  16.3  -2.0\n          20:00   0.7  17.5  18.6  14.5   6.0\n          21:00   0.7  14.1  15.1   8.6   5.0\n          22:00   1.1  22.0  23.6  12.5   5.0\n          23:00   0.9  19.4  20.7  10.4   6.0\n\n[8760 rows x 5 columns]",
      "text/html": "<div>\n<style scoped>\n    .dataframe tbody tr th:only-of-type {\n        vertical-align: middle;\n    }\n\n    .dataframe tbody tr th {\n        vertical-align: top;\n    }\n\n    .dataframe thead tr th {\n        text-align: left;\n    }\n\n    .dataframe thead tr:last-of-type th {\n        text-align: right;\n    }\n</style>\n<table border=\"1\" class=\"dataframe\">\n  <thead>\n    <tr>\n      <th></th>\n      <th></th>\n      <th></th>\n      <th colspan=\"5\" halign=\"left\">Value</th>\n    </tr>\n    <tr>\n      <th></th>\n      <th></th>\n      <th>Species</th>\n      <th>NO</th>\n      <th>NO2</th>\n      <th>NOX</th>\n      <th>PM10</th>\n      <th>PM2.5</th>\n    </tr>\n    <tr>\n      <th>Month</th>\n      <th>Day</th>\n      <th>Time</th>\n      <th></th>\n      <th></th>\n      <th></th>\n      <th></th>\n      <th></th>\n    </tr>\n  </thead>\n  <tbody>\n    <tr>\n      <th rowspan=\"5\" valign=\"top\">01</th>\n      <th rowspan=\"5\" valign=\"top\">01</th>\n      <th>00:00</th>\n      <td>3.5</td>\n      <td>30.8</td>\n      <td>36.2</td>\n      <td>35.7</td>\n      <td>NaN</td>\n    </tr>\n    <tr>\n      <th>01:00</th>\n      <td>3.6</td>\n      <td>31.5</td>\n      <td>37.0</td>\n      <td>28.5</td>\n      <td>NaN</td>\n    </tr>\n    <tr>\n      <th>02:00</th>\n      <td>2.2</td>\n      <td>27.3</td>\n      <td>30.7</td>\n      <td>22.7</td>\n      <td>NaN</td>\n    </tr>\n    <tr>\n      <th>03:00</th>\n      <td>2.1</td>\n      <td>23.5</td>\n      <td>26.8</td>\n      <td>20.5</td>\n      <td>NaN</td>\n    </tr>\n    <tr>\n      <th>04:00</th>\n      <td>3.3</td>\n      <td>28.0</td>\n      <td>33.0</td>\n      <td>22.1</td>\n      <td>NaN</td>\n    </tr>\n    <tr>\n      <th>...</th>\n      <th>...</th>\n      <th>...</th>\n      <td>...</td>\n      <td>...</td>\n      <td>...</td>\n      <td>...</td>\n      <td>...</td>\n    </tr>\n    <tr>\n      <th rowspan=\"5\" valign=\"top\">12</th>\n      <th rowspan=\"5\" valign=\"top\">31</th>\n      <th>19:00</th>\n      <td>0.7</td>\n      <td>17.5</td>\n      <td>18.5</td>\n      <td>16.3</td>\n      <td>-2.0</td>\n    </tr>\n    <tr>\n      <th>20:00</th>\n      <td>0.7</td>\n      <td>17.5</td>\n      <td>18.6</td>\n      <td>14.5</td>\n      <td>6.0</td>\n    </tr>\n    <tr>\n      <th>21:00</th>\n      <td>0.7</td>\n      <td>14.1</td>\n      <td>15.1</td>\n      <td>8.6</td>\n      <td>5.0</td>\n    </tr>\n    <tr>\n      <th>22:00</th>\n      <td>1.1</td>\n      <td>22.0</td>\n      <td>23.6</td>\n      <td>12.5</td>\n      <td>5.0</td>\n    </tr>\n    <tr>\n      <th>23:00</th>\n      <td>0.9</td>\n      <td>19.4</td>\n      <td>20.7</td>\n      <td>10.4</td>\n      <td>6.0</td>\n    </tr>\n  </tbody>\n</table>\n<p>8760 rows × 5 columns</p>\n</div>"
     },
     "execution_count": 10,
     "metadata": {},
     "output_type": "execute_result"
    }
   ],
   "source": [
    "air_df.unstack()"
   ]
  }
 ],
 "metadata": {
  "kernelspec": {
   "display_name": "Python 3",
   "language": "python",
   "name": "python3"
  },
  "language_info": {
   "codemirror_mode": {
    "name": "ipython",
    "version": 3
   },
   "file_extension": ".py",
   "mimetype": "text/x-python",
   "name": "python",
   "nbconvert_exporter": "python",
   "pygments_lexer": "ipython3",
   "version": "3.8.5"
  }
 },
 "nbformat": 4,
 "nbformat_minor": 4
}
