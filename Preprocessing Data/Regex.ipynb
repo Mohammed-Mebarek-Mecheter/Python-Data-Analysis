{
 "cells": [
  {
   "cell_type": "code",
   "execution_count": 1,
   "id": "initial_id",
   "metadata": {
    "collapsed": true,
    "ExecuteTime": {
     "end_time": "2023-08-11T16:50:05.879790100Z",
     "start_time": "2023-08-11T16:50:05.874927Z"
    }
   },
   "outputs": [],
   "source": [
    "import re"
   ]
  },
  {
   "cell_type": "code",
   "execution_count": 3,
   "outputs": [
    {
     "name": "stdout",
     "output_type": "stream",
     "text": [
      "mohammedmecheter@gmail.com\n",
      "mohammedmecheter\n",
      "gmail.com\n"
     ]
    }
   ],
   "source": [
    "#Email Validation\n",
    "myString = 'From: mohammedmecheter@gmail.com (readers email)'\n",
    "result = re.search('([\\w.-]+)@([\\w.-]+)', myString)\n",
    "if result:\n",
    "    print (result.group(0))   ## 'alice-b@google.com' (the whole match)\n",
    "    print (result.group(1))  ## 'alice-b' (the username, group 1)\n",
    "    print (result.group(2))  ## 'google.com' (the host, group 2)"
   ],
   "metadata": {
    "collapsed": false,
    "ExecuteTime": {
     "end_time": "2023-08-11T16:51:16.837042900Z",
     "start_time": "2023-08-11T16:51:16.778670200Z"
    }
   },
   "id": "692fd95abf7a52d5"
  },
  {
   "cell_type": "code",
   "execution_count": 4,
   "outputs": [
    {
     "name": "stdout",
     "output_type": "stream",
     "text": [
      "['192.168.1.254']\n"
     ]
    }
   ],
   "source": [
    "# IP Address Validation\n",
    "isIP = re.compile('\\d{1,3}\\.\\d{1,3}\\.\\d{1,3}\\.\\d{1,3}')\n",
    "myString = \"Your IP is: 192.168.1.254 \"\n",
    "result = re.findall(isIP,myString)\n",
    "print(result)"
   ],
   "metadata": {
    "collapsed": false,
    "ExecuteTime": {
     "end_time": "2023-08-11T16:52:05.925448800Z",
     "start_time": "2023-08-11T16:52:05.872016800Z"
    }
   },
   "id": "86530e605c1f97b9"
  },
  {
   "cell_type": "code",
   "execution_count": 6,
   "outputs": [
    {
     "name": "stdout",
     "output_type": "stream",
     "text": [
      "valid\n"
     ]
    }
   ],
   "source": [
    "#Date Format\n",
    "myString = \"11/08/2023\"\n",
    "isDate = re.match('[0-1][0-9]\\/[0-3][0-9]\\/[1-2][0-9]{3}', myString)\n",
    "\n",
    "if isDate:\n",
    "    print(\"valid\")\n",
    "else:\n",
    "    print(\"invalid\")"
   ],
   "metadata": {
    "collapsed": false,
    "ExecuteTime": {
     "end_time": "2023-08-11T16:53:20.086201600Z",
     "start_time": "2023-08-11T16:53:20.027624200Z"
    }
   },
   "id": "748d97b5b8b75817"
  }
 ],
 "metadata": {
  "kernelspec": {
   "display_name": "Python 3",
   "language": "python",
   "name": "python3"
  },
  "language_info": {
   "codemirror_mode": {
    "name": "ipython",
    "version": 2
   },
   "file_extension": ".py",
   "mimetype": "text/x-python",
   "name": "python",
   "nbconvert_exporter": "python",
   "pygments_lexer": "ipython2",
   "version": "2.7.6"
  }
 },
 "nbformat": 4,
 "nbformat_minor": 5
}
